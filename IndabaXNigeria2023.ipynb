{
  "nbformat": 4,
  "nbformat_minor": 0,
  "metadata": {
    "colab": {
      "provenance": [],
      "mount_file_id": "1YOWY2PO2Dywng54ahopW7OflQm9TRenF",
      "authorship_tag": "ABX9TyNrKZ9pu60jgfVTnBZBJwqk",
      "include_colab_link": true
    },
    "kernelspec": {
      "name": "python3",
      "display_name": "Python 3"
    },
    "language_info": {
      "name": "python"
    }
  },
  "cells": [
    {
      "cell_type": "markdown",
      "metadata": {
        "id": "view-in-github",
        "colab_type": "text"
      },
      "source": [
        "<a href=\"https://colab.research.google.com/github/nasirudeenraheem/IndabaXNigeria2023/blob/main/IndabaXNigeria2023.ipynb\" target=\"_parent\"><img src=\"https://colab.research.google.com/assets/colab-badge.svg\" alt=\"Open In Colab\"/></a>"
      ]
    },
    {
      "cell_type": "code",
      "execution_count": 1,
      "metadata": {
        "id": "zjKTyZd2OwLi"
      },
      "outputs": [],
      "source": [
        "import pandas as pd\n",
        "import numpy as np\n",
        "from matplotlib import pyplot as plt\n",
        "import seaborn as sns\n",
        "%matplotlib inline\n",
        "from sklearn.model_selection import train_test_split\n",
        "from sklearn.preprocessing import LabelEncoder\n",
        "from lightgbm import LGBMClassifier\n",
        "from sklearn.metrics import roc_auc_score"
      ]
    },
    {
      "cell_type": "markdown",
      "source": [
        "### load the data"
      ],
      "metadata": {
        "id": "IpDB6BTzP3V0"
      }
    },
    {
      "cell_type": "code",
      "source": [
        "## client data\n",
        "client_train = pd.read_csv('/content/drive/MyDrive/IndabaXNigeriaHack/client_train.csv')\n",
        "client_test = pd.read_csv('/content/drive/MyDrive/IndabaXNigeriaHack/client_test.csv')\n",
        "## invoice data\n",
        "invoice_train = pd.read_csv('/content/drive/MyDrive/IndabaXNigeriaHack/invoice_train.csv')\n",
        "invoice_test = pd.read_csv('/content/drive/MyDrive/IndabaXNigeriaHack/invoice_test.csv')\n",
        "## sample submission\n",
        "submission = pd.read_csv('/content/drive/MyDrive/IndabaXNigeriaHack/SampleSubmission (4).csv')"
      ],
      "metadata": {
        "colab": {
          "base_uri": "https://localhost:8080/"
        },
        "id": "vDThEZUvP1QA",
        "outputId": "4c5550a3-e837-40af-8539-966849260c2a"
      },
      "execution_count": 2,
      "outputs": [
        {
          "output_type": "stream",
          "name": "stderr",
          "text": [
            "<ipython-input-2-ef00edadcf82>:5: DtypeWarning: Columns (4) have mixed types. Specify dtype option on import or set low_memory=False.\n",
            "  invoice_train = pd.read_csv('/content/drive/MyDrive/IndabaXNigeriaHack/invoice_train.csv')\n"
          ]
        }
      ]
    },
    {
      "cell_type": "markdown",
      "source": [
        "#### Investigate the data"
      ],
      "metadata": {
        "id": "2os0CYszQwvk"
      }
    },
    {
      "cell_type": "code",
      "source": [
        "client_train.head(2)"
      ],
      "metadata": {
        "colab": {
          "base_uri": "https://localhost:8080/",
          "height": 112
        },
        "id": "y9y1dQ5vQqc-",
        "outputId": "eadeb3a2-f3f0-4a52-c411-6fca340be58d"
      },
      "execution_count": 3,
      "outputs": [
        {
          "output_type": "execute_result",
          "data": {
            "text/plain": [
              "   disrict       client_id  client_catg  region creation_date  target\n",
              "0       60  train_Client_0           11     101    31/12/1994     0.0\n",
              "1       69  train_Client_1           11     107    29/05/2002     0.0"
            ],
            "text/html": [
              "\n",
              "  <div id=\"df-bdd54077-15ee-4353-9076-9875f3191921\">\n",
              "    <div class=\"colab-df-container\">\n",
              "      <div>\n",
              "<style scoped>\n",
              "    .dataframe tbody tr th:only-of-type {\n",
              "        vertical-align: middle;\n",
              "    }\n",
              "\n",
              "    .dataframe tbody tr th {\n",
              "        vertical-align: top;\n",
              "    }\n",
              "\n",
              "    .dataframe thead th {\n",
              "        text-align: right;\n",
              "    }\n",
              "</style>\n",
              "<table border=\"1\" class=\"dataframe\">\n",
              "  <thead>\n",
              "    <tr style=\"text-align: right;\">\n",
              "      <th></th>\n",
              "      <th>disrict</th>\n",
              "      <th>client_id</th>\n",
              "      <th>client_catg</th>\n",
              "      <th>region</th>\n",
              "      <th>creation_date</th>\n",
              "      <th>target</th>\n",
              "    </tr>\n",
              "  </thead>\n",
              "  <tbody>\n",
              "    <tr>\n",
              "      <th>0</th>\n",
              "      <td>60</td>\n",
              "      <td>train_Client_0</td>\n",
              "      <td>11</td>\n",
              "      <td>101</td>\n",
              "      <td>31/12/1994</td>\n",
              "      <td>0.0</td>\n",
              "    </tr>\n",
              "    <tr>\n",
              "      <th>1</th>\n",
              "      <td>69</td>\n",
              "      <td>train_Client_1</td>\n",
              "      <td>11</td>\n",
              "      <td>107</td>\n",
              "      <td>29/05/2002</td>\n",
              "      <td>0.0</td>\n",
              "    </tr>\n",
              "  </tbody>\n",
              "</table>\n",
              "</div>\n",
              "      <button class=\"colab-df-convert\" onclick=\"convertToInteractive('df-bdd54077-15ee-4353-9076-9875f3191921')\"\n",
              "              title=\"Convert this dataframe to an interactive table.\"\n",
              "              style=\"display:none;\">\n",
              "        \n",
              "  <svg xmlns=\"http://www.w3.org/2000/svg\" height=\"24px\"viewBox=\"0 0 24 24\"\n",
              "       width=\"24px\">\n",
              "    <path d=\"M0 0h24v24H0V0z\" fill=\"none\"/>\n",
              "    <path d=\"M18.56 5.44l.94 2.06.94-2.06 2.06-.94-2.06-.94-.94-2.06-.94 2.06-2.06.94zm-11 1L8.5 8.5l.94-2.06 2.06-.94-2.06-.94L8.5 2.5l-.94 2.06-2.06.94zm10 10l.94 2.06.94-2.06 2.06-.94-2.06-.94-.94-2.06-.94 2.06-2.06.94z\"/><path d=\"M17.41 7.96l-1.37-1.37c-.4-.4-.92-.59-1.43-.59-.52 0-1.04.2-1.43.59L10.3 9.45l-7.72 7.72c-.78.78-.78 2.05 0 2.83L4 21.41c.39.39.9.59 1.41.59.51 0 1.02-.2 1.41-.59l7.78-7.78 2.81-2.81c.8-.78.8-2.07 0-2.86zM5.41 20L4 18.59l7.72-7.72 1.47 1.35L5.41 20z\"/>\n",
              "  </svg>\n",
              "      </button>\n",
              "      \n",
              "  <style>\n",
              "    .colab-df-container {\n",
              "      display:flex;\n",
              "      flex-wrap:wrap;\n",
              "      gap: 12px;\n",
              "    }\n",
              "\n",
              "    .colab-df-convert {\n",
              "      background-color: #E8F0FE;\n",
              "      border: none;\n",
              "      border-radius: 50%;\n",
              "      cursor: pointer;\n",
              "      display: none;\n",
              "      fill: #1967D2;\n",
              "      height: 32px;\n",
              "      padding: 0 0 0 0;\n",
              "      width: 32px;\n",
              "    }\n",
              "\n",
              "    .colab-df-convert:hover {\n",
              "      background-color: #E2EBFA;\n",
              "      box-shadow: 0px 1px 2px rgba(60, 64, 67, 0.3), 0px 1px 3px 1px rgba(60, 64, 67, 0.15);\n",
              "      fill: #174EA6;\n",
              "    }\n",
              "\n",
              "    [theme=dark] .colab-df-convert {\n",
              "      background-color: #3B4455;\n",
              "      fill: #D2E3FC;\n",
              "    }\n",
              "\n",
              "    [theme=dark] .colab-df-convert:hover {\n",
              "      background-color: #434B5C;\n",
              "      box-shadow: 0px 1px 3px 1px rgba(0, 0, 0, 0.15);\n",
              "      filter: drop-shadow(0px 1px 2px rgba(0, 0, 0, 0.3));\n",
              "      fill: #FFFFFF;\n",
              "    }\n",
              "  </style>\n",
              "\n",
              "      <script>\n",
              "        const buttonEl =\n",
              "          document.querySelector('#df-bdd54077-15ee-4353-9076-9875f3191921 button.colab-df-convert');\n",
              "        buttonEl.style.display =\n",
              "          google.colab.kernel.accessAllowed ? 'block' : 'none';\n",
              "\n",
              "        async function convertToInteractive(key) {\n",
              "          const element = document.querySelector('#df-bdd54077-15ee-4353-9076-9875f3191921');\n",
              "          const dataTable =\n",
              "            await google.colab.kernel.invokeFunction('convertToInteractive',\n",
              "                                                     [key], {});\n",
              "          if (!dataTable) return;\n",
              "\n",
              "          const docLinkHtml = 'Like what you see? Visit the ' +\n",
              "            '<a target=\"_blank\" href=https://colab.research.google.com/notebooks/data_table.ipynb>data table notebook</a>'\n",
              "            + ' to learn more about interactive tables.';\n",
              "          element.innerHTML = '';\n",
              "          dataTable['output_type'] = 'display_data';\n",
              "          await google.colab.output.renderOutput(dataTable, element);\n",
              "          const docLink = document.createElement('div');\n",
              "          docLink.innerHTML = docLinkHtml;\n",
              "          element.appendChild(docLink);\n",
              "        }\n",
              "      </script>\n",
              "    </div>\n",
              "  </div>\n",
              "  "
            ]
          },
          "metadata": {},
          "execution_count": 3
        }
      ]
    },
    {
      "cell_type": "code",
      "source": [
        "invoice_train.head(2)"
      ],
      "metadata": {
        "colab": {
          "base_uri": "https://localhost:8080/",
          "height": 176
        },
        "id": "MpRd_kquQ2Ff",
        "outputId": "e9a558a7-46ad-40c2-c665-ad9ae0a9ba7c"
      },
      "execution_count": 4,
      "outputs": [
        {
          "output_type": "execute_result",
          "data": {
            "text/plain": [
              "        client_id invoice_date  tarif_type  counter_number counter_statue  \\\n",
              "0  train_Client_0   2014-03-24          11         1335667              0   \n",
              "1  train_Client_0   2013-03-29          11         1335667              0   \n",
              "\n",
              "   counter_code  reading_remarque  counter_coefficient  consommation_level_1  \\\n",
              "0           203                 8                    1                    82   \n",
              "1           203                 6                    1                  1200   \n",
              "\n",
              "   consommation_level_2  consommation_level_3  consommation_level_4  \\\n",
              "0                     0                     0                     0   \n",
              "1                   184                     0                     0   \n",
              "\n",
              "   old_index  new_index  months_number counter_type  \n",
              "0      14302      14384              4         ELEC  \n",
              "1      12294      13678              4         ELEC  "
            ],
            "text/html": [
              "\n",
              "  <div id=\"df-afd21f57-e0b1-46bb-aaa8-43b798c6fc56\">\n",
              "    <div class=\"colab-df-container\">\n",
              "      <div>\n",
              "<style scoped>\n",
              "    .dataframe tbody tr th:only-of-type {\n",
              "        vertical-align: middle;\n",
              "    }\n",
              "\n",
              "    .dataframe tbody tr th {\n",
              "        vertical-align: top;\n",
              "    }\n",
              "\n",
              "    .dataframe thead th {\n",
              "        text-align: right;\n",
              "    }\n",
              "</style>\n",
              "<table border=\"1\" class=\"dataframe\">\n",
              "  <thead>\n",
              "    <tr style=\"text-align: right;\">\n",
              "      <th></th>\n",
              "      <th>client_id</th>\n",
              "      <th>invoice_date</th>\n",
              "      <th>tarif_type</th>\n",
              "      <th>counter_number</th>\n",
              "      <th>counter_statue</th>\n",
              "      <th>counter_code</th>\n",
              "      <th>reading_remarque</th>\n",
              "      <th>counter_coefficient</th>\n",
              "      <th>consommation_level_1</th>\n",
              "      <th>consommation_level_2</th>\n",
              "      <th>consommation_level_3</th>\n",
              "      <th>consommation_level_4</th>\n",
              "      <th>old_index</th>\n",
              "      <th>new_index</th>\n",
              "      <th>months_number</th>\n",
              "      <th>counter_type</th>\n",
              "    </tr>\n",
              "  </thead>\n",
              "  <tbody>\n",
              "    <tr>\n",
              "      <th>0</th>\n",
              "      <td>train_Client_0</td>\n",
              "      <td>2014-03-24</td>\n",
              "      <td>11</td>\n",
              "      <td>1335667</td>\n",
              "      <td>0</td>\n",
              "      <td>203</td>\n",
              "      <td>8</td>\n",
              "      <td>1</td>\n",
              "      <td>82</td>\n",
              "      <td>0</td>\n",
              "      <td>0</td>\n",
              "      <td>0</td>\n",
              "      <td>14302</td>\n",
              "      <td>14384</td>\n",
              "      <td>4</td>\n",
              "      <td>ELEC</td>\n",
              "    </tr>\n",
              "    <tr>\n",
              "      <th>1</th>\n",
              "      <td>train_Client_0</td>\n",
              "      <td>2013-03-29</td>\n",
              "      <td>11</td>\n",
              "      <td>1335667</td>\n",
              "      <td>0</td>\n",
              "      <td>203</td>\n",
              "      <td>6</td>\n",
              "      <td>1</td>\n",
              "      <td>1200</td>\n",
              "      <td>184</td>\n",
              "      <td>0</td>\n",
              "      <td>0</td>\n",
              "      <td>12294</td>\n",
              "      <td>13678</td>\n",
              "      <td>4</td>\n",
              "      <td>ELEC</td>\n",
              "    </tr>\n",
              "  </tbody>\n",
              "</table>\n",
              "</div>\n",
              "      <button class=\"colab-df-convert\" onclick=\"convertToInteractive('df-afd21f57-e0b1-46bb-aaa8-43b798c6fc56')\"\n",
              "              title=\"Convert this dataframe to an interactive table.\"\n",
              "              style=\"display:none;\">\n",
              "        \n",
              "  <svg xmlns=\"http://www.w3.org/2000/svg\" height=\"24px\"viewBox=\"0 0 24 24\"\n",
              "       width=\"24px\">\n",
              "    <path d=\"M0 0h24v24H0V0z\" fill=\"none\"/>\n",
              "    <path d=\"M18.56 5.44l.94 2.06.94-2.06 2.06-.94-2.06-.94-.94-2.06-.94 2.06-2.06.94zm-11 1L8.5 8.5l.94-2.06 2.06-.94-2.06-.94L8.5 2.5l-.94 2.06-2.06.94zm10 10l.94 2.06.94-2.06 2.06-.94-2.06-.94-.94-2.06-.94 2.06-2.06.94z\"/><path d=\"M17.41 7.96l-1.37-1.37c-.4-.4-.92-.59-1.43-.59-.52 0-1.04.2-1.43.59L10.3 9.45l-7.72 7.72c-.78.78-.78 2.05 0 2.83L4 21.41c.39.39.9.59 1.41.59.51 0 1.02-.2 1.41-.59l7.78-7.78 2.81-2.81c.8-.78.8-2.07 0-2.86zM5.41 20L4 18.59l7.72-7.72 1.47 1.35L5.41 20z\"/>\n",
              "  </svg>\n",
              "      </button>\n",
              "      \n",
              "  <style>\n",
              "    .colab-df-container {\n",
              "      display:flex;\n",
              "      flex-wrap:wrap;\n",
              "      gap: 12px;\n",
              "    }\n",
              "\n",
              "    .colab-df-convert {\n",
              "      background-color: #E8F0FE;\n",
              "      border: none;\n",
              "      border-radius: 50%;\n",
              "      cursor: pointer;\n",
              "      display: none;\n",
              "      fill: #1967D2;\n",
              "      height: 32px;\n",
              "      padding: 0 0 0 0;\n",
              "      width: 32px;\n",
              "    }\n",
              "\n",
              "    .colab-df-convert:hover {\n",
              "      background-color: #E2EBFA;\n",
              "      box-shadow: 0px 1px 2px rgba(60, 64, 67, 0.3), 0px 1px 3px 1px rgba(60, 64, 67, 0.15);\n",
              "      fill: #174EA6;\n",
              "    }\n",
              "\n",
              "    [theme=dark] .colab-df-convert {\n",
              "      background-color: #3B4455;\n",
              "      fill: #D2E3FC;\n",
              "    }\n",
              "\n",
              "    [theme=dark] .colab-df-convert:hover {\n",
              "      background-color: #434B5C;\n",
              "      box-shadow: 0px 1px 3px 1px rgba(0, 0, 0, 0.15);\n",
              "      filter: drop-shadow(0px 1px 2px rgba(0, 0, 0, 0.3));\n",
              "      fill: #FFFFFF;\n",
              "    }\n",
              "  </style>\n",
              "\n",
              "      <script>\n",
              "        const buttonEl =\n",
              "          document.querySelector('#df-afd21f57-e0b1-46bb-aaa8-43b798c6fc56 button.colab-df-convert');\n",
              "        buttonEl.style.display =\n",
              "          google.colab.kernel.accessAllowed ? 'block' : 'none';\n",
              "\n",
              "        async function convertToInteractive(key) {\n",
              "          const element = document.querySelector('#df-afd21f57-e0b1-46bb-aaa8-43b798c6fc56');\n",
              "          const dataTable =\n",
              "            await google.colab.kernel.invokeFunction('convertToInteractive',\n",
              "                                                     [key], {});\n",
              "          if (!dataTable) return;\n",
              "\n",
              "          const docLinkHtml = 'Like what you see? Visit the ' +\n",
              "            '<a target=\"_blank\" href=https://colab.research.google.com/notebooks/data_table.ipynb>data table notebook</a>'\n",
              "            + ' to learn more about interactive tables.';\n",
              "          element.innerHTML = '';\n",
              "          dataTable['output_type'] = 'display_data';\n",
              "          await google.colab.output.renderOutput(dataTable, element);\n",
              "          const docLink = document.createElement('div');\n",
              "          docLink.innerHTML = docLinkHtml;\n",
              "          element.appendChild(docLink);\n",
              "        }\n",
              "      </script>\n",
              "    </div>\n",
              "  </div>\n",
              "  "
            ]
          },
          "metadata": {},
          "execution_count": 4
        }
      ]
    },
    {
      "cell_type": "code",
      "source": [
        "print(client_train.shape)\n",
        "print(invoice_train.shape)"
      ],
      "metadata": {
        "colab": {
          "base_uri": "https://localhost:8080/"
        },
        "id": "RUXVueu1Q_k-",
        "outputId": "d4855409-9170-4d14-a253-6d12ac940b86"
      },
      "execution_count": 5,
      "outputs": [
        {
          "output_type": "stream",
          "name": "stdout",
          "text": [
            "(135493, 6)\n",
            "(4476749, 16)\n"
          ]
        }
      ]
    },
    {
      "cell_type": "markdown",
      "source": [
        "**Observation**\n",
        "\n",
        "we observe we have more records in the invoice data than client data, hence we have to merge the data into **one**, using **client_id** as the primary key."
      ],
      "metadata": {
        "id": "aj6HgrBAQ704"
      }
    },
    {
      "cell_type": "code",
      "source": [
        "## merge the train and test data\n",
        "train = client_train.merge(invoice_train, on='client_id')\n",
        "test = client_test.merge(invoice_test, on='client_id')"
      ],
      "metadata": {
        "id": "gGAs0OWiQ5SM"
      },
      "execution_count": 9,
      "outputs": []
    },
    {
      "cell_type": "code",
      "source": [
        "print(train.shape)\n",
        "print(test.shape)"
      ],
      "metadata": {
        "colab": {
          "base_uri": "https://localhost:8080/"
        },
        "id": "o00ZT0i7R-g3",
        "outputId": "e266137e-3d30-44c2-cca2-4f8b97b47af0"
      },
      "execution_count": 10,
      "outputs": [
        {
          "output_type": "stream",
          "name": "stdout",
          "text": [
            "(4476749, 21)\n",
            "(1939730, 20)\n"
          ]
        }
      ]
    },
    {
      "cell_type": "code",
      "source": [
        "## check the missing value\n",
        "train.isnull().sum()"
      ],
      "metadata": {
        "colab": {
          "base_uri": "https://localhost:8080/"
        },
        "id": "7daolR1tSSVQ",
        "outputId": "288c821a-3aad-4d78-d134-1f101a5d2167"
      },
      "execution_count": 14,
      "outputs": [
        {
          "output_type": "execute_result",
          "data": {
            "text/plain": [
              "disrict                 0\n",
              "client_id               0\n",
              "client_catg             0\n",
              "region                  0\n",
              "creation_date           0\n",
              "target                  0\n",
              "invoice_date            0\n",
              "tarif_type              0\n",
              "counter_number          0\n",
              "counter_statue          0\n",
              "counter_code            0\n",
              "reading_remarque        0\n",
              "counter_coefficient     0\n",
              "consommation_level_1    0\n",
              "consommation_level_2    0\n",
              "consommation_level_3    0\n",
              "consommation_level_4    0\n",
              "old_index               0\n",
              "new_index               0\n",
              "months_number           0\n",
              "counter_type            0\n",
              "dtype: int64"
            ]
          },
          "metadata": {},
          "execution_count": 14
        }
      ]
    },
    {
      "cell_type": "code",
      "source": [
        "test.isnull().sum()"
      ],
      "metadata": {
        "colab": {
          "base_uri": "https://localhost:8080/"
        },
        "id": "SxxZbcaKSzCb",
        "outputId": "db5d1efa-b87e-48dc-c641-c81b8a463a2b"
      },
      "execution_count": 15,
      "outputs": [
        {
          "output_type": "execute_result",
          "data": {
            "text/plain": [
              "disrict                 0\n",
              "client_id               0\n",
              "client_catg             0\n",
              "region                  0\n",
              "creation_date           0\n",
              "invoice_date            0\n",
              "tarif_type              0\n",
              "counter_number          0\n",
              "counter_statue          0\n",
              "counter_code            0\n",
              "reading_remarque        0\n",
              "counter_coefficient     0\n",
              "consommation_level_1    0\n",
              "consommation_level_2    0\n",
              "consommation_level_3    0\n",
              "consommation_level_4    0\n",
              "old_index               0\n",
              "new_index               0\n",
              "months_number           0\n",
              "counter_type            0\n",
              "dtype: int64"
            ]
          },
          "metadata": {},
          "execution_count": 15
        }
      ]
    },
    {
      "cell_type": "code",
      "source": [
        "train.dtypes"
      ],
      "metadata": {
        "colab": {
          "base_uri": "https://localhost:8080/"
        },
        "id": "FkPC1ULuT836",
        "outputId": "7f35d55e-2580-444a-c001-58570263f369"
      },
      "execution_count": 25,
      "outputs": [
        {
          "output_type": "execute_result",
          "data": {
            "text/plain": [
              "disrict                   int64\n",
              "client_id                object\n",
              "client_catg               int64\n",
              "region                    int64\n",
              "creation_date            object\n",
              "target                  float64\n",
              "invoice_date             object\n",
              "tarif_type                int64\n",
              "counter_number            int64\n",
              "counter_statue           object\n",
              "counter_code              int64\n",
              "reading_remarque          int64\n",
              "counter_coefficient       int64\n",
              "consommation_level_1      int64\n",
              "consommation_level_2      int64\n",
              "consommation_level_3      int64\n",
              "consommation_level_4      int64\n",
              "old_index                 int64\n",
              "new_index                 int64\n",
              "months_number             int64\n",
              "counter_type             object\n",
              "dtype: object"
            ]
          },
          "metadata": {},
          "execution_count": 25
        }
      ]
    },
    {
      "cell_type": "code",
      "source": [
        "train[train.duplicated()]"
      ],
      "metadata": {
        "colab": {
          "base_uri": "https://localhost:8080/",
          "height": 488
        },
        "id": "8TO4pPLATBvO",
        "outputId": "18482a39-857a-4f03-a3d8-d211a96181b4"
      },
      "execution_count": 18,
      "outputs": [
        {
          "output_type": "execute_result",
          "data": {
            "text/plain": [
              "         disrict            client_id  client_catg  region creation_date  \\\n",
              "951893        60  train_Client_125864           11     101    29/12/1998   \n",
              "1755798       62   train_Client_25894           11     301    16/06/1995   \n",
              "2137999       60    train_Client_3636           11     101    21/11/1988   \n",
              "2163374       60   train_Client_37069           11     101    09/03/1990   \n",
              "2433919       60   train_Client_44407           11     101    15/06/1989   \n",
              "2805729       60   train_Client_54609           11     101    16/02/1994   \n",
              "3260191       63   train_Client_66981           51     313    20/11/1996   \n",
              "3260198       63   train_Client_66981           51     313    20/11/1996   \n",
              "3394719       62    train_Client_7066           11     304    12/04/2013   \n",
              "3462929       60   train_Client_72519           11     101    03/06/1982   \n",
              "3628821       63   train_Client_77029           51     312    27/02/2010   \n",
              "\n",
              "         target invoice_date  tarif_type  counter_number counter_statue  ...  \\\n",
              "951893      0.0   2011-12-12          11          101545              5  ...   \n",
              "1755798     0.0   2010-07-13          40         6986740              5  ...   \n",
              "2137999     0.0   2012-01-18          40          312650              5  ...   \n",
              "2163374     0.0   2010-10-11          11            5284              5  ...   \n",
              "2433919     1.0   2008-02-28          11           66921              5  ...   \n",
              "2805729     0.0   2010-04-06          11          200912              5  ...   \n",
              "3260191     1.0   2006-07-17          11          132701              5  ...   \n",
              "3260198     1.0   2006-07-17          11          132701              5  ...   \n",
              "3394719     0.0   2014-10-28          40         4463323              5  ...   \n",
              "3462929     0.0   2013-01-21          11          246464              5  ...   \n",
              "3628821     0.0   2012-12-28          11          540417              5  ...   \n",
              "\n",
              "         reading_remarque  counter_coefficient  consommation_level_1  \\\n",
              "951893                  6                    1                     0   \n",
              "1755798                 6                    1                     0   \n",
              "2137999                 6                    1                     0   \n",
              "2163374                 6                    1                     0   \n",
              "2433919                 6                    1                     0   \n",
              "2805729                 6                    1                     0   \n",
              "3260191                 6                    1                     0   \n",
              "3260198                 6                    1                     0   \n",
              "3394719                 6                    1                     0   \n",
              "3462929                 6                    1                     0   \n",
              "3628821                 6                    1                     0   \n",
              "\n",
              "         consommation_level_2  consommation_level_3  consommation_level_4  \\\n",
              "951893                      0                     0                     0   \n",
              "1755798                     0                     0                     0   \n",
              "2137999                     0                     0                     0   \n",
              "2163374                     0                     0                     0   \n",
              "2433919                     0                     0                     0   \n",
              "2805729                     0                     0                     0   \n",
              "3260191                     0                     0                     0   \n",
              "3260198                     0                     0                     0   \n",
              "3394719                     0                     0                     0   \n",
              "3462929                     0                     0                     0   \n",
              "3628821                     0                     0                     0   \n",
              "\n",
              "         old_index  new_index  months_number  counter_type  \n",
              "951893       13680      13680              2          ELEC  \n",
              "1755798          0          0              2           GAZ  \n",
              "2137999        623        623              2           GAZ  \n",
              "2163374      99429      99429              2          ELEC  \n",
              "2433919          0          0              2          ELEC  \n",
              "2805729          0          0              2          ELEC  \n",
              "3260191       5946       5946              2          ELEC  \n",
              "3260198       5946       5946              2          ELEC  \n",
              "3394719         80         80              2           GAZ  \n",
              "3462929       2954       2954              2          ELEC  \n",
              "3628821      26429      26429              2          ELEC  \n",
              "\n",
              "[11 rows x 21 columns]"
            ],
            "text/html": [
              "\n",
              "  <div id=\"df-d8d90000-9a96-4cdd-993a-3d4ab812163f\">\n",
              "    <div class=\"colab-df-container\">\n",
              "      <div>\n",
              "<style scoped>\n",
              "    .dataframe tbody tr th:only-of-type {\n",
              "        vertical-align: middle;\n",
              "    }\n",
              "\n",
              "    .dataframe tbody tr th {\n",
              "        vertical-align: top;\n",
              "    }\n",
              "\n",
              "    .dataframe thead th {\n",
              "        text-align: right;\n",
              "    }\n",
              "</style>\n",
              "<table border=\"1\" class=\"dataframe\">\n",
              "  <thead>\n",
              "    <tr style=\"text-align: right;\">\n",
              "      <th></th>\n",
              "      <th>disrict</th>\n",
              "      <th>client_id</th>\n",
              "      <th>client_catg</th>\n",
              "      <th>region</th>\n",
              "      <th>creation_date</th>\n",
              "      <th>target</th>\n",
              "      <th>invoice_date</th>\n",
              "      <th>tarif_type</th>\n",
              "      <th>counter_number</th>\n",
              "      <th>counter_statue</th>\n",
              "      <th>...</th>\n",
              "      <th>reading_remarque</th>\n",
              "      <th>counter_coefficient</th>\n",
              "      <th>consommation_level_1</th>\n",
              "      <th>consommation_level_2</th>\n",
              "      <th>consommation_level_3</th>\n",
              "      <th>consommation_level_4</th>\n",
              "      <th>old_index</th>\n",
              "      <th>new_index</th>\n",
              "      <th>months_number</th>\n",
              "      <th>counter_type</th>\n",
              "    </tr>\n",
              "  </thead>\n",
              "  <tbody>\n",
              "    <tr>\n",
              "      <th>951893</th>\n",
              "      <td>60</td>\n",
              "      <td>train_Client_125864</td>\n",
              "      <td>11</td>\n",
              "      <td>101</td>\n",
              "      <td>29/12/1998</td>\n",
              "      <td>0.0</td>\n",
              "      <td>2011-12-12</td>\n",
              "      <td>11</td>\n",
              "      <td>101545</td>\n",
              "      <td>5</td>\n",
              "      <td>...</td>\n",
              "      <td>6</td>\n",
              "      <td>1</td>\n",
              "      <td>0</td>\n",
              "      <td>0</td>\n",
              "      <td>0</td>\n",
              "      <td>0</td>\n",
              "      <td>13680</td>\n",
              "      <td>13680</td>\n",
              "      <td>2</td>\n",
              "      <td>ELEC</td>\n",
              "    </tr>\n",
              "    <tr>\n",
              "      <th>1755798</th>\n",
              "      <td>62</td>\n",
              "      <td>train_Client_25894</td>\n",
              "      <td>11</td>\n",
              "      <td>301</td>\n",
              "      <td>16/06/1995</td>\n",
              "      <td>0.0</td>\n",
              "      <td>2010-07-13</td>\n",
              "      <td>40</td>\n",
              "      <td>6986740</td>\n",
              "      <td>5</td>\n",
              "      <td>...</td>\n",
              "      <td>6</td>\n",
              "      <td>1</td>\n",
              "      <td>0</td>\n",
              "      <td>0</td>\n",
              "      <td>0</td>\n",
              "      <td>0</td>\n",
              "      <td>0</td>\n",
              "      <td>0</td>\n",
              "      <td>2</td>\n",
              "      <td>GAZ</td>\n",
              "    </tr>\n",
              "    <tr>\n",
              "      <th>2137999</th>\n",
              "      <td>60</td>\n",
              "      <td>train_Client_3636</td>\n",
              "      <td>11</td>\n",
              "      <td>101</td>\n",
              "      <td>21/11/1988</td>\n",
              "      <td>0.0</td>\n",
              "      <td>2012-01-18</td>\n",
              "      <td>40</td>\n",
              "      <td>312650</td>\n",
              "      <td>5</td>\n",
              "      <td>...</td>\n",
              "      <td>6</td>\n",
              "      <td>1</td>\n",
              "      <td>0</td>\n",
              "      <td>0</td>\n",
              "      <td>0</td>\n",
              "      <td>0</td>\n",
              "      <td>623</td>\n",
              "      <td>623</td>\n",
              "      <td>2</td>\n",
              "      <td>GAZ</td>\n",
              "    </tr>\n",
              "    <tr>\n",
              "      <th>2163374</th>\n",
              "      <td>60</td>\n",
              "      <td>train_Client_37069</td>\n",
              "      <td>11</td>\n",
              "      <td>101</td>\n",
              "      <td>09/03/1990</td>\n",
              "      <td>0.0</td>\n",
              "      <td>2010-10-11</td>\n",
              "      <td>11</td>\n",
              "      <td>5284</td>\n",
              "      <td>5</td>\n",
              "      <td>...</td>\n",
              "      <td>6</td>\n",
              "      <td>1</td>\n",
              "      <td>0</td>\n",
              "      <td>0</td>\n",
              "      <td>0</td>\n",
              "      <td>0</td>\n",
              "      <td>99429</td>\n",
              "      <td>99429</td>\n",
              "      <td>2</td>\n",
              "      <td>ELEC</td>\n",
              "    </tr>\n",
              "    <tr>\n",
              "      <th>2433919</th>\n",
              "      <td>60</td>\n",
              "      <td>train_Client_44407</td>\n",
              "      <td>11</td>\n",
              "      <td>101</td>\n",
              "      <td>15/06/1989</td>\n",
              "      <td>1.0</td>\n",
              "      <td>2008-02-28</td>\n",
              "      <td>11</td>\n",
              "      <td>66921</td>\n",
              "      <td>5</td>\n",
              "      <td>...</td>\n",
              "      <td>6</td>\n",
              "      <td>1</td>\n",
              "      <td>0</td>\n",
              "      <td>0</td>\n",
              "      <td>0</td>\n",
              "      <td>0</td>\n",
              "      <td>0</td>\n",
              "      <td>0</td>\n",
              "      <td>2</td>\n",
              "      <td>ELEC</td>\n",
              "    </tr>\n",
              "    <tr>\n",
              "      <th>2805729</th>\n",
              "      <td>60</td>\n",
              "      <td>train_Client_54609</td>\n",
              "      <td>11</td>\n",
              "      <td>101</td>\n",
              "      <td>16/02/1994</td>\n",
              "      <td>0.0</td>\n",
              "      <td>2010-04-06</td>\n",
              "      <td>11</td>\n",
              "      <td>200912</td>\n",
              "      <td>5</td>\n",
              "      <td>...</td>\n",
              "      <td>6</td>\n",
              "      <td>1</td>\n",
              "      <td>0</td>\n",
              "      <td>0</td>\n",
              "      <td>0</td>\n",
              "      <td>0</td>\n",
              "      <td>0</td>\n",
              "      <td>0</td>\n",
              "      <td>2</td>\n",
              "      <td>ELEC</td>\n",
              "    </tr>\n",
              "    <tr>\n",
              "      <th>3260191</th>\n",
              "      <td>63</td>\n",
              "      <td>train_Client_66981</td>\n",
              "      <td>51</td>\n",
              "      <td>313</td>\n",
              "      <td>20/11/1996</td>\n",
              "      <td>1.0</td>\n",
              "      <td>2006-07-17</td>\n",
              "      <td>11</td>\n",
              "      <td>132701</td>\n",
              "      <td>5</td>\n",
              "      <td>...</td>\n",
              "      <td>6</td>\n",
              "      <td>1</td>\n",
              "      <td>0</td>\n",
              "      <td>0</td>\n",
              "      <td>0</td>\n",
              "      <td>0</td>\n",
              "      <td>5946</td>\n",
              "      <td>5946</td>\n",
              "      <td>2</td>\n",
              "      <td>ELEC</td>\n",
              "    </tr>\n",
              "    <tr>\n",
              "      <th>3260198</th>\n",
              "      <td>63</td>\n",
              "      <td>train_Client_66981</td>\n",
              "      <td>51</td>\n",
              "      <td>313</td>\n",
              "      <td>20/11/1996</td>\n",
              "      <td>1.0</td>\n",
              "      <td>2006-07-17</td>\n",
              "      <td>11</td>\n",
              "      <td>132701</td>\n",
              "      <td>5</td>\n",
              "      <td>...</td>\n",
              "      <td>6</td>\n",
              "      <td>1</td>\n",
              "      <td>0</td>\n",
              "      <td>0</td>\n",
              "      <td>0</td>\n",
              "      <td>0</td>\n",
              "      <td>5946</td>\n",
              "      <td>5946</td>\n",
              "      <td>2</td>\n",
              "      <td>ELEC</td>\n",
              "    </tr>\n",
              "    <tr>\n",
              "      <th>3394719</th>\n",
              "      <td>62</td>\n",
              "      <td>train_Client_7066</td>\n",
              "      <td>11</td>\n",
              "      <td>304</td>\n",
              "      <td>12/04/2013</td>\n",
              "      <td>0.0</td>\n",
              "      <td>2014-10-28</td>\n",
              "      <td>40</td>\n",
              "      <td>4463323</td>\n",
              "      <td>5</td>\n",
              "      <td>...</td>\n",
              "      <td>6</td>\n",
              "      <td>1</td>\n",
              "      <td>0</td>\n",
              "      <td>0</td>\n",
              "      <td>0</td>\n",
              "      <td>0</td>\n",
              "      <td>80</td>\n",
              "      <td>80</td>\n",
              "      <td>2</td>\n",
              "      <td>GAZ</td>\n",
              "    </tr>\n",
              "    <tr>\n",
              "      <th>3462929</th>\n",
              "      <td>60</td>\n",
              "      <td>train_Client_72519</td>\n",
              "      <td>11</td>\n",
              "      <td>101</td>\n",
              "      <td>03/06/1982</td>\n",
              "      <td>0.0</td>\n",
              "      <td>2013-01-21</td>\n",
              "      <td>11</td>\n",
              "      <td>246464</td>\n",
              "      <td>5</td>\n",
              "      <td>...</td>\n",
              "      <td>6</td>\n",
              "      <td>1</td>\n",
              "      <td>0</td>\n",
              "      <td>0</td>\n",
              "      <td>0</td>\n",
              "      <td>0</td>\n",
              "      <td>2954</td>\n",
              "      <td>2954</td>\n",
              "      <td>2</td>\n",
              "      <td>ELEC</td>\n",
              "    </tr>\n",
              "    <tr>\n",
              "      <th>3628821</th>\n",
              "      <td>63</td>\n",
              "      <td>train_Client_77029</td>\n",
              "      <td>51</td>\n",
              "      <td>312</td>\n",
              "      <td>27/02/2010</td>\n",
              "      <td>0.0</td>\n",
              "      <td>2012-12-28</td>\n",
              "      <td>11</td>\n",
              "      <td>540417</td>\n",
              "      <td>5</td>\n",
              "      <td>...</td>\n",
              "      <td>6</td>\n",
              "      <td>1</td>\n",
              "      <td>0</td>\n",
              "      <td>0</td>\n",
              "      <td>0</td>\n",
              "      <td>0</td>\n",
              "      <td>26429</td>\n",
              "      <td>26429</td>\n",
              "      <td>2</td>\n",
              "      <td>ELEC</td>\n",
              "    </tr>\n",
              "  </tbody>\n",
              "</table>\n",
              "<p>11 rows × 21 columns</p>\n",
              "</div>\n",
              "      <button class=\"colab-df-convert\" onclick=\"convertToInteractive('df-d8d90000-9a96-4cdd-993a-3d4ab812163f')\"\n",
              "              title=\"Convert this dataframe to an interactive table.\"\n",
              "              style=\"display:none;\">\n",
              "        \n",
              "  <svg xmlns=\"http://www.w3.org/2000/svg\" height=\"24px\"viewBox=\"0 0 24 24\"\n",
              "       width=\"24px\">\n",
              "    <path d=\"M0 0h24v24H0V0z\" fill=\"none\"/>\n",
              "    <path d=\"M18.56 5.44l.94 2.06.94-2.06 2.06-.94-2.06-.94-.94-2.06-.94 2.06-2.06.94zm-11 1L8.5 8.5l.94-2.06 2.06-.94-2.06-.94L8.5 2.5l-.94 2.06-2.06.94zm10 10l.94 2.06.94-2.06 2.06-.94-2.06-.94-.94-2.06-.94 2.06-2.06.94z\"/><path d=\"M17.41 7.96l-1.37-1.37c-.4-.4-.92-.59-1.43-.59-.52 0-1.04.2-1.43.59L10.3 9.45l-7.72 7.72c-.78.78-.78 2.05 0 2.83L4 21.41c.39.39.9.59 1.41.59.51 0 1.02-.2 1.41-.59l7.78-7.78 2.81-2.81c.8-.78.8-2.07 0-2.86zM5.41 20L4 18.59l7.72-7.72 1.47 1.35L5.41 20z\"/>\n",
              "  </svg>\n",
              "      </button>\n",
              "      \n",
              "  <style>\n",
              "    .colab-df-container {\n",
              "      display:flex;\n",
              "      flex-wrap:wrap;\n",
              "      gap: 12px;\n",
              "    }\n",
              "\n",
              "    .colab-df-convert {\n",
              "      background-color: #E8F0FE;\n",
              "      border: none;\n",
              "      border-radius: 50%;\n",
              "      cursor: pointer;\n",
              "      display: none;\n",
              "      fill: #1967D2;\n",
              "      height: 32px;\n",
              "      padding: 0 0 0 0;\n",
              "      width: 32px;\n",
              "    }\n",
              "\n",
              "    .colab-df-convert:hover {\n",
              "      background-color: #E2EBFA;\n",
              "      box-shadow: 0px 1px 2px rgba(60, 64, 67, 0.3), 0px 1px 3px 1px rgba(60, 64, 67, 0.15);\n",
              "      fill: #174EA6;\n",
              "    }\n",
              "\n",
              "    [theme=dark] .colab-df-convert {\n",
              "      background-color: #3B4455;\n",
              "      fill: #D2E3FC;\n",
              "    }\n",
              "\n",
              "    [theme=dark] .colab-df-convert:hover {\n",
              "      background-color: #434B5C;\n",
              "      box-shadow: 0px 1px 3px 1px rgba(0, 0, 0, 0.15);\n",
              "      filter: drop-shadow(0px 1px 2px rgba(0, 0, 0, 0.3));\n",
              "      fill: #FFFFFF;\n",
              "    }\n",
              "  </style>\n",
              "\n",
              "      <script>\n",
              "        const buttonEl =\n",
              "          document.querySelector('#df-d8d90000-9a96-4cdd-993a-3d4ab812163f button.colab-df-convert');\n",
              "        buttonEl.style.display =\n",
              "          google.colab.kernel.accessAllowed ? 'block' : 'none';\n",
              "\n",
              "        async function convertToInteractive(key) {\n",
              "          const element = document.querySelector('#df-d8d90000-9a96-4cdd-993a-3d4ab812163f');\n",
              "          const dataTable =\n",
              "            await google.colab.kernel.invokeFunction('convertToInteractive',\n",
              "                                                     [key], {});\n",
              "          if (!dataTable) return;\n",
              "\n",
              "          const docLinkHtml = 'Like what you see? Visit the ' +\n",
              "            '<a target=\"_blank\" href=https://colab.research.google.com/notebooks/data_table.ipynb>data table notebook</a>'\n",
              "            + ' to learn more about interactive tables.';\n",
              "          element.innerHTML = '';\n",
              "          dataTable['output_type'] = 'display_data';\n",
              "          await google.colab.output.renderOutput(dataTable, element);\n",
              "          const docLink = document.createElement('div');\n",
              "          docLink.innerHTML = docLinkHtml;\n",
              "          element.appendChild(docLink);\n",
              "        }\n",
              "      </script>\n",
              "    </div>\n",
              "  </div>\n",
              "  "
            ]
          },
          "metadata": {},
          "execution_count": 18
        }
      ]
    },
    {
      "cell_type": "code",
      "source": [
        "test[test.duplicated()]"
      ],
      "metadata": {
        "colab": {
          "base_uri": "https://localhost:8080/",
          "height": 364
        },
        "id": "26TUkzloTOtK",
        "outputId": "f60b0f2a-8575-4b0a-82a3-c689c7bc78d1"
      },
      "execution_count": 19,
      "outputs": [
        {
          "output_type": "execute_result",
          "data": {
            "text/plain": [
              "         disrict          client_id  client_catg  region creation_date  \\\n",
              "310558        63  test_Client_18456           11     379    23/09/2008   \n",
              "1226244       69  test_Client_43096           11     103    15/12/2015   \n",
              "1226246       69  test_Client_43096           11     103    15/12/2015   \n",
              "1226256       69  test_Client_43096           11     103    15/12/2015   \n",
              "1226258       69  test_Client_43096           11     103    15/12/2015   \n",
              "1226259       69  test_Client_43096           11     103    15/12/2015   \n",
              "1880789       60   test_Client_8372           11     101    19/08/1996   \n",
              "1880799       60   test_Client_8372           11     101    19/08/1996   \n",
              "\n",
              "        invoice_date  tarif_type  counter_number  counter_statue  \\\n",
              "310558    2013-11-22          40               0               5   \n",
              "1226244   2017-07-06          11            9894               0   \n",
              "1226246   2016-07-06          11            9894               0   \n",
              "1226256   2017-12-10          11            9894               0   \n",
              "1226258   2016-02-15          11            9894               0   \n",
              "1226259   2016-10-13          11            9894               0   \n",
              "1880789   2012-07-13          40          101734               5   \n",
              "1880799   2010-07-16          11            3128               5   \n",
              "\n",
              "         counter_code  reading_remarque  counter_coefficient  \\\n",
              "310558              5                 6                    1   \n",
              "1226244           413                 8                    1   \n",
              "1226246           413                 8                    1   \n",
              "1226256           413                 8                    1   \n",
              "1226258           413                 6                    1   \n",
              "1226259           413                 8                    1   \n",
              "1880789             5                 6                    1   \n",
              "1880799           410                 6                    1   \n",
              "\n",
              "         consommation_level_1  consommation_level_2  consommation_level_3  \\\n",
              "310558                      0                     0                     0   \n",
              "1226244                    15                     0                     0   \n",
              "1226246                    22                     0                     0   \n",
              "1226256                    69                     0                     0   \n",
              "1226258                    80                     0                     0   \n",
              "1226259                     2                     0                     0   \n",
              "1880789                     0                     0                     0   \n",
              "1880799                     0                     0                     0   \n",
              "\n",
              "         consommation_level_4  old_index  new_index  months_number  \\\n",
              "310558                      0          0          0              2   \n",
              "1226244                     0        104        119              8   \n",
              "1226246                     0         80        102              4   \n",
              "1226256                     0        119        188              4   \n",
              "1226258                     0          0         80              2   \n",
              "1226259                     0        102        104              4   \n",
              "1880789                     0       1628       1628              2   \n",
              "1880799                     0      36795      36795              2   \n",
              "\n",
              "        counter_type  \n",
              "310558           GAZ  \n",
              "1226244         ELEC  \n",
              "1226246         ELEC  \n",
              "1226256         ELEC  \n",
              "1226258         ELEC  \n",
              "1226259         ELEC  \n",
              "1880789          GAZ  \n",
              "1880799         ELEC  "
            ],
            "text/html": [
              "\n",
              "  <div id=\"df-9fb2cd32-c94c-4801-9074-14ca9fffbd59\">\n",
              "    <div class=\"colab-df-container\">\n",
              "      <div>\n",
              "<style scoped>\n",
              "    .dataframe tbody tr th:only-of-type {\n",
              "        vertical-align: middle;\n",
              "    }\n",
              "\n",
              "    .dataframe tbody tr th {\n",
              "        vertical-align: top;\n",
              "    }\n",
              "\n",
              "    .dataframe thead th {\n",
              "        text-align: right;\n",
              "    }\n",
              "</style>\n",
              "<table border=\"1\" class=\"dataframe\">\n",
              "  <thead>\n",
              "    <tr style=\"text-align: right;\">\n",
              "      <th></th>\n",
              "      <th>disrict</th>\n",
              "      <th>client_id</th>\n",
              "      <th>client_catg</th>\n",
              "      <th>region</th>\n",
              "      <th>creation_date</th>\n",
              "      <th>invoice_date</th>\n",
              "      <th>tarif_type</th>\n",
              "      <th>counter_number</th>\n",
              "      <th>counter_statue</th>\n",
              "      <th>counter_code</th>\n",
              "      <th>reading_remarque</th>\n",
              "      <th>counter_coefficient</th>\n",
              "      <th>consommation_level_1</th>\n",
              "      <th>consommation_level_2</th>\n",
              "      <th>consommation_level_3</th>\n",
              "      <th>consommation_level_4</th>\n",
              "      <th>old_index</th>\n",
              "      <th>new_index</th>\n",
              "      <th>months_number</th>\n",
              "      <th>counter_type</th>\n",
              "    </tr>\n",
              "  </thead>\n",
              "  <tbody>\n",
              "    <tr>\n",
              "      <th>310558</th>\n",
              "      <td>63</td>\n",
              "      <td>test_Client_18456</td>\n",
              "      <td>11</td>\n",
              "      <td>379</td>\n",
              "      <td>23/09/2008</td>\n",
              "      <td>2013-11-22</td>\n",
              "      <td>40</td>\n",
              "      <td>0</td>\n",
              "      <td>5</td>\n",
              "      <td>5</td>\n",
              "      <td>6</td>\n",
              "      <td>1</td>\n",
              "      <td>0</td>\n",
              "      <td>0</td>\n",
              "      <td>0</td>\n",
              "      <td>0</td>\n",
              "      <td>0</td>\n",
              "      <td>0</td>\n",
              "      <td>2</td>\n",
              "      <td>GAZ</td>\n",
              "    </tr>\n",
              "    <tr>\n",
              "      <th>1226244</th>\n",
              "      <td>69</td>\n",
              "      <td>test_Client_43096</td>\n",
              "      <td>11</td>\n",
              "      <td>103</td>\n",
              "      <td>15/12/2015</td>\n",
              "      <td>2017-07-06</td>\n",
              "      <td>11</td>\n",
              "      <td>9894</td>\n",
              "      <td>0</td>\n",
              "      <td>413</td>\n",
              "      <td>8</td>\n",
              "      <td>1</td>\n",
              "      <td>15</td>\n",
              "      <td>0</td>\n",
              "      <td>0</td>\n",
              "      <td>0</td>\n",
              "      <td>104</td>\n",
              "      <td>119</td>\n",
              "      <td>8</td>\n",
              "      <td>ELEC</td>\n",
              "    </tr>\n",
              "    <tr>\n",
              "      <th>1226246</th>\n",
              "      <td>69</td>\n",
              "      <td>test_Client_43096</td>\n",
              "      <td>11</td>\n",
              "      <td>103</td>\n",
              "      <td>15/12/2015</td>\n",
              "      <td>2016-07-06</td>\n",
              "      <td>11</td>\n",
              "      <td>9894</td>\n",
              "      <td>0</td>\n",
              "      <td>413</td>\n",
              "      <td>8</td>\n",
              "      <td>1</td>\n",
              "      <td>22</td>\n",
              "      <td>0</td>\n",
              "      <td>0</td>\n",
              "      <td>0</td>\n",
              "      <td>80</td>\n",
              "      <td>102</td>\n",
              "      <td>4</td>\n",
              "      <td>ELEC</td>\n",
              "    </tr>\n",
              "    <tr>\n",
              "      <th>1226256</th>\n",
              "      <td>69</td>\n",
              "      <td>test_Client_43096</td>\n",
              "      <td>11</td>\n",
              "      <td>103</td>\n",
              "      <td>15/12/2015</td>\n",
              "      <td>2017-12-10</td>\n",
              "      <td>11</td>\n",
              "      <td>9894</td>\n",
              "      <td>0</td>\n",
              "      <td>413</td>\n",
              "      <td>8</td>\n",
              "      <td>1</td>\n",
              "      <td>69</td>\n",
              "      <td>0</td>\n",
              "      <td>0</td>\n",
              "      <td>0</td>\n",
              "      <td>119</td>\n",
              "      <td>188</td>\n",
              "      <td>4</td>\n",
              "      <td>ELEC</td>\n",
              "    </tr>\n",
              "    <tr>\n",
              "      <th>1226258</th>\n",
              "      <td>69</td>\n",
              "      <td>test_Client_43096</td>\n",
              "      <td>11</td>\n",
              "      <td>103</td>\n",
              "      <td>15/12/2015</td>\n",
              "      <td>2016-02-15</td>\n",
              "      <td>11</td>\n",
              "      <td>9894</td>\n",
              "      <td>0</td>\n",
              "      <td>413</td>\n",
              "      <td>6</td>\n",
              "      <td>1</td>\n",
              "      <td>80</td>\n",
              "      <td>0</td>\n",
              "      <td>0</td>\n",
              "      <td>0</td>\n",
              "      <td>0</td>\n",
              "      <td>80</td>\n",
              "      <td>2</td>\n",
              "      <td>ELEC</td>\n",
              "    </tr>\n",
              "    <tr>\n",
              "      <th>1226259</th>\n",
              "      <td>69</td>\n",
              "      <td>test_Client_43096</td>\n",
              "      <td>11</td>\n",
              "      <td>103</td>\n",
              "      <td>15/12/2015</td>\n",
              "      <td>2016-10-13</td>\n",
              "      <td>11</td>\n",
              "      <td>9894</td>\n",
              "      <td>0</td>\n",
              "      <td>413</td>\n",
              "      <td>8</td>\n",
              "      <td>1</td>\n",
              "      <td>2</td>\n",
              "      <td>0</td>\n",
              "      <td>0</td>\n",
              "      <td>0</td>\n",
              "      <td>102</td>\n",
              "      <td>104</td>\n",
              "      <td>4</td>\n",
              "      <td>ELEC</td>\n",
              "    </tr>\n",
              "    <tr>\n",
              "      <th>1880789</th>\n",
              "      <td>60</td>\n",
              "      <td>test_Client_8372</td>\n",
              "      <td>11</td>\n",
              "      <td>101</td>\n",
              "      <td>19/08/1996</td>\n",
              "      <td>2012-07-13</td>\n",
              "      <td>40</td>\n",
              "      <td>101734</td>\n",
              "      <td>5</td>\n",
              "      <td>5</td>\n",
              "      <td>6</td>\n",
              "      <td>1</td>\n",
              "      <td>0</td>\n",
              "      <td>0</td>\n",
              "      <td>0</td>\n",
              "      <td>0</td>\n",
              "      <td>1628</td>\n",
              "      <td>1628</td>\n",
              "      <td>2</td>\n",
              "      <td>GAZ</td>\n",
              "    </tr>\n",
              "    <tr>\n",
              "      <th>1880799</th>\n",
              "      <td>60</td>\n",
              "      <td>test_Client_8372</td>\n",
              "      <td>11</td>\n",
              "      <td>101</td>\n",
              "      <td>19/08/1996</td>\n",
              "      <td>2010-07-16</td>\n",
              "      <td>11</td>\n",
              "      <td>3128</td>\n",
              "      <td>5</td>\n",
              "      <td>410</td>\n",
              "      <td>6</td>\n",
              "      <td>1</td>\n",
              "      <td>0</td>\n",
              "      <td>0</td>\n",
              "      <td>0</td>\n",
              "      <td>0</td>\n",
              "      <td>36795</td>\n",
              "      <td>36795</td>\n",
              "      <td>2</td>\n",
              "      <td>ELEC</td>\n",
              "    </tr>\n",
              "  </tbody>\n",
              "</table>\n",
              "</div>\n",
              "      <button class=\"colab-df-convert\" onclick=\"convertToInteractive('df-9fb2cd32-c94c-4801-9074-14ca9fffbd59')\"\n",
              "              title=\"Convert this dataframe to an interactive table.\"\n",
              "              style=\"display:none;\">\n",
              "        \n",
              "  <svg xmlns=\"http://www.w3.org/2000/svg\" height=\"24px\"viewBox=\"0 0 24 24\"\n",
              "       width=\"24px\">\n",
              "    <path d=\"M0 0h24v24H0V0z\" fill=\"none\"/>\n",
              "    <path d=\"M18.56 5.44l.94 2.06.94-2.06 2.06-.94-2.06-.94-.94-2.06-.94 2.06-2.06.94zm-11 1L8.5 8.5l.94-2.06 2.06-.94-2.06-.94L8.5 2.5l-.94 2.06-2.06.94zm10 10l.94 2.06.94-2.06 2.06-.94-2.06-.94-.94-2.06-.94 2.06-2.06.94z\"/><path d=\"M17.41 7.96l-1.37-1.37c-.4-.4-.92-.59-1.43-.59-.52 0-1.04.2-1.43.59L10.3 9.45l-7.72 7.72c-.78.78-.78 2.05 0 2.83L4 21.41c.39.39.9.59 1.41.59.51 0 1.02-.2 1.41-.59l7.78-7.78 2.81-2.81c.8-.78.8-2.07 0-2.86zM5.41 20L4 18.59l7.72-7.72 1.47 1.35L5.41 20z\"/>\n",
              "  </svg>\n",
              "      </button>\n",
              "      \n",
              "  <style>\n",
              "    .colab-df-container {\n",
              "      display:flex;\n",
              "      flex-wrap:wrap;\n",
              "      gap: 12px;\n",
              "    }\n",
              "\n",
              "    .colab-df-convert {\n",
              "      background-color: #E8F0FE;\n",
              "      border: none;\n",
              "      border-radius: 50%;\n",
              "      cursor: pointer;\n",
              "      display: none;\n",
              "      fill: #1967D2;\n",
              "      height: 32px;\n",
              "      padding: 0 0 0 0;\n",
              "      width: 32px;\n",
              "    }\n",
              "\n",
              "    .colab-df-convert:hover {\n",
              "      background-color: #E2EBFA;\n",
              "      box-shadow: 0px 1px 2px rgba(60, 64, 67, 0.3), 0px 1px 3px 1px rgba(60, 64, 67, 0.15);\n",
              "      fill: #174EA6;\n",
              "    }\n",
              "\n",
              "    [theme=dark] .colab-df-convert {\n",
              "      background-color: #3B4455;\n",
              "      fill: #D2E3FC;\n",
              "    }\n",
              "\n",
              "    [theme=dark] .colab-df-convert:hover {\n",
              "      background-color: #434B5C;\n",
              "      box-shadow: 0px 1px 3px 1px rgba(0, 0, 0, 0.15);\n",
              "      filter: drop-shadow(0px 1px 2px rgba(0, 0, 0, 0.3));\n",
              "      fill: #FFFFFF;\n",
              "    }\n",
              "  </style>\n",
              "\n",
              "      <script>\n",
              "        const buttonEl =\n",
              "          document.querySelector('#df-9fb2cd32-c94c-4801-9074-14ca9fffbd59 button.colab-df-convert');\n",
              "        buttonEl.style.display =\n",
              "          google.colab.kernel.accessAllowed ? 'block' : 'none';\n",
              "\n",
              "        async function convertToInteractive(key) {\n",
              "          const element = document.querySelector('#df-9fb2cd32-c94c-4801-9074-14ca9fffbd59');\n",
              "          const dataTable =\n",
              "            await google.colab.kernel.invokeFunction('convertToInteractive',\n",
              "                                                     [key], {});\n",
              "          if (!dataTable) return;\n",
              "\n",
              "          const docLinkHtml = 'Like what you see? Visit the ' +\n",
              "            '<a target=\"_blank\" href=https://colab.research.google.com/notebooks/data_table.ipynb>data table notebook</a>'\n",
              "            + ' to learn more about interactive tables.';\n",
              "          element.innerHTML = '';\n",
              "          dataTable['output_type'] = 'display_data';\n",
              "          await google.colab.output.renderOutput(dataTable, element);\n",
              "          const docLink = document.createElement('div');\n",
              "          docLink.innerHTML = docLinkHtml;\n",
              "          element.appendChild(docLink);\n",
              "        }\n",
              "      </script>\n",
              "    </div>\n",
              "  </div>\n",
              "  "
            ]
          },
          "metadata": {},
          "execution_count": 19
        }
      ]
    },
    {
      "cell_type": "markdown",
      "source": [
        "**Observation**\n",
        "\n",
        "we have duplicate observations in both train and test data."
      ],
      "metadata": {
        "id": "wOQe_8k4TSZ7"
      }
    },
    {
      "cell_type": "markdown",
      "source": [
        "### EDA"
      ],
      "metadata": {
        "id": "k_5lfudGS-3U"
      }
    },
    {
      "cell_type": "code",
      "source": [
        "train.head()"
      ],
      "metadata": {
        "colab": {
          "base_uri": "https://localhost:8080/",
          "height": 300
        },
        "id": "6DvvAoyqS9Q5",
        "outputId": "cf8e6624-7936-45fd-d1ac-f4a945bf84b2"
      },
      "execution_count": 16,
      "outputs": [
        {
          "output_type": "execute_result",
          "data": {
            "text/plain": [
              "   disrict       client_id  client_catg  region creation_date  target  \\\n",
              "0       60  train_Client_0           11     101    31/12/1994     0.0   \n",
              "1       60  train_Client_0           11     101    31/12/1994     0.0   \n",
              "2       60  train_Client_0           11     101    31/12/1994     0.0   \n",
              "3       60  train_Client_0           11     101    31/12/1994     0.0   \n",
              "4       60  train_Client_0           11     101    31/12/1994     0.0   \n",
              "\n",
              "  invoice_date  tarif_type  counter_number counter_statue  ...  \\\n",
              "0   2014-03-24          11         1335667              0  ...   \n",
              "1   2013-03-29          11         1335667              0  ...   \n",
              "2   2015-03-23          11         1335667              0  ...   \n",
              "3   2015-07-13          11         1335667              0  ...   \n",
              "4   2016-11-17          11         1335667              0  ...   \n",
              "\n",
              "   reading_remarque  counter_coefficient  consommation_level_1  \\\n",
              "0                 8                    1                    82   \n",
              "1                 6                    1                  1200   \n",
              "2                 8                    1                   123   \n",
              "3                 8                    1                   102   \n",
              "4                 9                    1                   572   \n",
              "\n",
              "   consommation_level_2  consommation_level_3  consommation_level_4  \\\n",
              "0                     0                     0                     0   \n",
              "1                   184                     0                     0   \n",
              "2                     0                     0                     0   \n",
              "3                     0                     0                     0   \n",
              "4                     0                     0                     0   \n",
              "\n",
              "   old_index  new_index  months_number  counter_type  \n",
              "0      14302      14384              4          ELEC  \n",
              "1      12294      13678              4          ELEC  \n",
              "2      14624      14747              4          ELEC  \n",
              "3      14747      14849              4          ELEC  \n",
              "4      15066      15638             12          ELEC  \n",
              "\n",
              "[5 rows x 21 columns]"
            ],
            "text/html": [
              "\n",
              "  <div id=\"df-3cc866a8-46a4-497f-a2a2-1c40a8c5168f\">\n",
              "    <div class=\"colab-df-container\">\n",
              "      <div>\n",
              "<style scoped>\n",
              "    .dataframe tbody tr th:only-of-type {\n",
              "        vertical-align: middle;\n",
              "    }\n",
              "\n",
              "    .dataframe tbody tr th {\n",
              "        vertical-align: top;\n",
              "    }\n",
              "\n",
              "    .dataframe thead th {\n",
              "        text-align: right;\n",
              "    }\n",
              "</style>\n",
              "<table border=\"1\" class=\"dataframe\">\n",
              "  <thead>\n",
              "    <tr style=\"text-align: right;\">\n",
              "      <th></th>\n",
              "      <th>disrict</th>\n",
              "      <th>client_id</th>\n",
              "      <th>client_catg</th>\n",
              "      <th>region</th>\n",
              "      <th>creation_date</th>\n",
              "      <th>target</th>\n",
              "      <th>invoice_date</th>\n",
              "      <th>tarif_type</th>\n",
              "      <th>counter_number</th>\n",
              "      <th>counter_statue</th>\n",
              "      <th>...</th>\n",
              "      <th>reading_remarque</th>\n",
              "      <th>counter_coefficient</th>\n",
              "      <th>consommation_level_1</th>\n",
              "      <th>consommation_level_2</th>\n",
              "      <th>consommation_level_3</th>\n",
              "      <th>consommation_level_4</th>\n",
              "      <th>old_index</th>\n",
              "      <th>new_index</th>\n",
              "      <th>months_number</th>\n",
              "      <th>counter_type</th>\n",
              "    </tr>\n",
              "  </thead>\n",
              "  <tbody>\n",
              "    <tr>\n",
              "      <th>0</th>\n",
              "      <td>60</td>\n",
              "      <td>train_Client_0</td>\n",
              "      <td>11</td>\n",
              "      <td>101</td>\n",
              "      <td>31/12/1994</td>\n",
              "      <td>0.0</td>\n",
              "      <td>2014-03-24</td>\n",
              "      <td>11</td>\n",
              "      <td>1335667</td>\n",
              "      <td>0</td>\n",
              "      <td>...</td>\n",
              "      <td>8</td>\n",
              "      <td>1</td>\n",
              "      <td>82</td>\n",
              "      <td>0</td>\n",
              "      <td>0</td>\n",
              "      <td>0</td>\n",
              "      <td>14302</td>\n",
              "      <td>14384</td>\n",
              "      <td>4</td>\n",
              "      <td>ELEC</td>\n",
              "    </tr>\n",
              "    <tr>\n",
              "      <th>1</th>\n",
              "      <td>60</td>\n",
              "      <td>train_Client_0</td>\n",
              "      <td>11</td>\n",
              "      <td>101</td>\n",
              "      <td>31/12/1994</td>\n",
              "      <td>0.0</td>\n",
              "      <td>2013-03-29</td>\n",
              "      <td>11</td>\n",
              "      <td>1335667</td>\n",
              "      <td>0</td>\n",
              "      <td>...</td>\n",
              "      <td>6</td>\n",
              "      <td>1</td>\n",
              "      <td>1200</td>\n",
              "      <td>184</td>\n",
              "      <td>0</td>\n",
              "      <td>0</td>\n",
              "      <td>12294</td>\n",
              "      <td>13678</td>\n",
              "      <td>4</td>\n",
              "      <td>ELEC</td>\n",
              "    </tr>\n",
              "    <tr>\n",
              "      <th>2</th>\n",
              "      <td>60</td>\n",
              "      <td>train_Client_0</td>\n",
              "      <td>11</td>\n",
              "      <td>101</td>\n",
              "      <td>31/12/1994</td>\n",
              "      <td>0.0</td>\n",
              "      <td>2015-03-23</td>\n",
              "      <td>11</td>\n",
              "      <td>1335667</td>\n",
              "      <td>0</td>\n",
              "      <td>...</td>\n",
              "      <td>8</td>\n",
              "      <td>1</td>\n",
              "      <td>123</td>\n",
              "      <td>0</td>\n",
              "      <td>0</td>\n",
              "      <td>0</td>\n",
              "      <td>14624</td>\n",
              "      <td>14747</td>\n",
              "      <td>4</td>\n",
              "      <td>ELEC</td>\n",
              "    </tr>\n",
              "    <tr>\n",
              "      <th>3</th>\n",
              "      <td>60</td>\n",
              "      <td>train_Client_0</td>\n",
              "      <td>11</td>\n",
              "      <td>101</td>\n",
              "      <td>31/12/1994</td>\n",
              "      <td>0.0</td>\n",
              "      <td>2015-07-13</td>\n",
              "      <td>11</td>\n",
              "      <td>1335667</td>\n",
              "      <td>0</td>\n",
              "      <td>...</td>\n",
              "      <td>8</td>\n",
              "      <td>1</td>\n",
              "      <td>102</td>\n",
              "      <td>0</td>\n",
              "      <td>0</td>\n",
              "      <td>0</td>\n",
              "      <td>14747</td>\n",
              "      <td>14849</td>\n",
              "      <td>4</td>\n",
              "      <td>ELEC</td>\n",
              "    </tr>\n",
              "    <tr>\n",
              "      <th>4</th>\n",
              "      <td>60</td>\n",
              "      <td>train_Client_0</td>\n",
              "      <td>11</td>\n",
              "      <td>101</td>\n",
              "      <td>31/12/1994</td>\n",
              "      <td>0.0</td>\n",
              "      <td>2016-11-17</td>\n",
              "      <td>11</td>\n",
              "      <td>1335667</td>\n",
              "      <td>0</td>\n",
              "      <td>...</td>\n",
              "      <td>9</td>\n",
              "      <td>1</td>\n",
              "      <td>572</td>\n",
              "      <td>0</td>\n",
              "      <td>0</td>\n",
              "      <td>0</td>\n",
              "      <td>15066</td>\n",
              "      <td>15638</td>\n",
              "      <td>12</td>\n",
              "      <td>ELEC</td>\n",
              "    </tr>\n",
              "  </tbody>\n",
              "</table>\n",
              "<p>5 rows × 21 columns</p>\n",
              "</div>\n",
              "      <button class=\"colab-df-convert\" onclick=\"convertToInteractive('df-3cc866a8-46a4-497f-a2a2-1c40a8c5168f')\"\n",
              "              title=\"Convert this dataframe to an interactive table.\"\n",
              "              style=\"display:none;\">\n",
              "        \n",
              "  <svg xmlns=\"http://www.w3.org/2000/svg\" height=\"24px\"viewBox=\"0 0 24 24\"\n",
              "       width=\"24px\">\n",
              "    <path d=\"M0 0h24v24H0V0z\" fill=\"none\"/>\n",
              "    <path d=\"M18.56 5.44l.94 2.06.94-2.06 2.06-.94-2.06-.94-.94-2.06-.94 2.06-2.06.94zm-11 1L8.5 8.5l.94-2.06 2.06-.94-2.06-.94L8.5 2.5l-.94 2.06-2.06.94zm10 10l.94 2.06.94-2.06 2.06-.94-2.06-.94-.94-2.06-.94 2.06-2.06.94z\"/><path d=\"M17.41 7.96l-1.37-1.37c-.4-.4-.92-.59-1.43-.59-.52 0-1.04.2-1.43.59L10.3 9.45l-7.72 7.72c-.78.78-.78 2.05 0 2.83L4 21.41c.39.39.9.59 1.41.59.51 0 1.02-.2 1.41-.59l7.78-7.78 2.81-2.81c.8-.78.8-2.07 0-2.86zM5.41 20L4 18.59l7.72-7.72 1.47 1.35L5.41 20z\"/>\n",
              "  </svg>\n",
              "      </button>\n",
              "      \n",
              "  <style>\n",
              "    .colab-df-container {\n",
              "      display:flex;\n",
              "      flex-wrap:wrap;\n",
              "      gap: 12px;\n",
              "    }\n",
              "\n",
              "    .colab-df-convert {\n",
              "      background-color: #E8F0FE;\n",
              "      border: none;\n",
              "      border-radius: 50%;\n",
              "      cursor: pointer;\n",
              "      display: none;\n",
              "      fill: #1967D2;\n",
              "      height: 32px;\n",
              "      padding: 0 0 0 0;\n",
              "      width: 32px;\n",
              "    }\n",
              "\n",
              "    .colab-df-convert:hover {\n",
              "      background-color: #E2EBFA;\n",
              "      box-shadow: 0px 1px 2px rgba(60, 64, 67, 0.3), 0px 1px 3px 1px rgba(60, 64, 67, 0.15);\n",
              "      fill: #174EA6;\n",
              "    }\n",
              "\n",
              "    [theme=dark] .colab-df-convert {\n",
              "      background-color: #3B4455;\n",
              "      fill: #D2E3FC;\n",
              "    }\n",
              "\n",
              "    [theme=dark] .colab-df-convert:hover {\n",
              "      background-color: #434B5C;\n",
              "      box-shadow: 0px 1px 3px 1px rgba(0, 0, 0, 0.15);\n",
              "      filter: drop-shadow(0px 1px 2px rgba(0, 0, 0, 0.3));\n",
              "      fill: #FFFFFF;\n",
              "    }\n",
              "  </style>\n",
              "\n",
              "      <script>\n",
              "        const buttonEl =\n",
              "          document.querySelector('#df-3cc866a8-46a4-497f-a2a2-1c40a8c5168f button.colab-df-convert');\n",
              "        buttonEl.style.display =\n",
              "          google.colab.kernel.accessAllowed ? 'block' : 'none';\n",
              "\n",
              "        async function convertToInteractive(key) {\n",
              "          const element = document.querySelector('#df-3cc866a8-46a4-497f-a2a2-1c40a8c5168f');\n",
              "          const dataTable =\n",
              "            await google.colab.kernel.invokeFunction('convertToInteractive',\n",
              "                                                     [key], {});\n",
              "          if (!dataTable) return;\n",
              "\n",
              "          const docLinkHtml = 'Like what you see? Visit the ' +\n",
              "            '<a target=\"_blank\" href=https://colab.research.google.com/notebooks/data_table.ipynb>data table notebook</a>'\n",
              "            + ' to learn more about interactive tables.';\n",
              "          element.innerHTML = '';\n",
              "          dataTable['output_type'] = 'display_data';\n",
              "          await google.colab.output.renderOutput(dataTable, element);\n",
              "          const docLink = document.createElement('div');\n",
              "          docLink.innerHTML = docLinkHtml;\n",
              "          element.appendChild(docLink);\n",
              "        }\n",
              "      </script>\n",
              "    </div>\n",
              "  </div>\n",
              "  "
            ]
          },
          "metadata": {},
          "execution_count": 16
        }
      ]
    },
    {
      "cell_type": "code",
      "source": [
        "train['target'].value_counts().plot(kind='bar');"
      ],
      "metadata": {
        "colab": {
          "base_uri": "https://localhost:8080/",
          "height": 453
        },
        "id": "mvSLJ-HtTBK9",
        "outputId": "04c6b77c-a551-4031-b40f-7925ebcfa604"
      },
      "execution_count": 22,
      "outputs": [
        {
          "output_type": "display_data",
          "data": {
            "text/plain": [
              "<Figure size 640x480 with 1 Axes>"
            ],
            "image/png": "[encoded data removed]"
          },
          "metadata": {}
        }
      ]
    },
    {
      "cell_type": "markdown",
      "source": [
        "**Observation**\n",
        "\n",
        "* The data is imbalance, but no worries we are expected to predict the probabilities."
      ],
      "metadata": {
        "id": "k4BDK476TwIx"
      }
    },
    {
      "cell_type": "code",
      "source": [
        "train['counter_type'].value_counts().plot(kind='bar');"
      ],
      "metadata": {
        "colab": {
          "base_uri": "https://localhost:8080/",
          "height": 466
        },
        "id": "i8SFt_gBTu-p",
        "outputId": "f6d1e6e6-a442-47dc-ecf1-52a1cc110202"
      },
      "execution_count": 26,
      "outputs": [
        {
          "output_type": "display_data",
          "data": {
            "text/plain": [
              "<Figure size 640x480 with 1 Axes>"
            ],
            "image/png": "[encoded data removed]"
          },
          "metadata": {}
        }
      ]
    },
    {
      "cell_type": "markdown",
      "source": [
        "**Observation**\n",
        "Most of the data seems to be categorical\n",
        "\n",
        "**Tips**\n",
        "\n",
        "* Correct some features to the right datatypes.\n",
        "\n",
        "* Find a suitable techniques to convert the categorical data."
      ],
      "metadata": {
        "id": "r4lgyegKU2I4"
      }
    },
    {
      "cell_type": "markdown",
      "source": [
        "### Feature engineering\n",
        "\n",
        "* Generate date time features."
      ],
      "metadata": {
        "id": "AFjeEvTxU3Qh"
      }
    },
    {
      "cell_type": "code",
      "source": [
        "train.columns[train.columns.str.contains('date')]"
      ],
      "metadata": {
        "colab": {
          "base_uri": "https://localhost:8080/"
        },
        "id": "Lha6sMnYT5hm",
        "outputId": "f6e3efa5-0da8-41c1-bc68-e5af252161af"
      },
      "execution_count": 31,
      "outputs": [
        {
          "output_type": "execute_result",
          "data": {
            "text/plain": [
              "Index(['creation_date', 'invoice_date'], dtype='object')"
            ]
          },
          "metadata": {},
          "execution_count": 31
        }
      ]
    },
    {
      "cell_type": "code",
      "source": [
        "train['creation_date'] = pd.to_datetime(train['creation_date'])\n",
        "train['invoice_date'] = pd.to_datetime(train['invoice_date'])\n",
        "\n",
        "test['creation_date'] = pd.to_datetime(test['creation_date'])\n",
        "test['invoice_date'] = pd.to_datetime(test['invoice_date'])"
      ],
      "metadata": {
        "id": "KWBho9IpUbgK"
      },
      "execution_count": null,
      "outputs": []
    },
    {
      "cell_type": "code",
      "source": [
        "train['dow_cd'] = train['creation_date'].dt.dayofweek\n",
        "train['year_cd'] = train['creation_date'].dt.year\n",
        "train['month_cd'] = train['creation_date'].dt.month\n",
        "\n",
        "test['dow_cd'] = test['creation_date'].dt.dayofweek\n",
        "test['year_cd'] = test['creation_date'].dt.year\n",
        "test['month_cd'] = test['creation_date'].dt.month"
      ],
      "metadata": {
        "id": "rsAntTS3WSCD"
      },
      "execution_count": 33,
      "outputs": []
    },
    {
      "cell_type": "code",
      "source": [
        "train['dow_ind'] = train['invoice_date'].dt.dayofweek\n",
        "train['year_ind'] = train['invoice_date'].dt.year\n",
        "train['month_ind'] = train['invoice_date'].dt.month\n",
        "\n",
        "test['dow_ind'] = test['invoice_date'].dt.dayofweek\n",
        "test['year_ind'] = test['invoice_date'].dt.year\n",
        "test['month_ind'] = test['invoice_date'].dt.month"
      ],
      "metadata": {
        "id": "_dJD_hw4W03v"
      },
      "execution_count": 34,
      "outputs": []
    },
    {
      "cell_type": "markdown",
      "source": [
        "### Feature selection\n",
        "\n",
        "* drop some features"
      ],
      "metadata": {
        "id": "ahhQnv9xXGTG"
      }
    },
    {
      "cell_type": "code",
      "source": [
        "test_id = test['client_id']"
      ],
      "metadata": {
        "id": "1X5ir7M8Xf4l"
      },
      "execution_count": 38,
      "outputs": []
    },
    {
      "cell_type": "code",
      "source": [
        "to_drop = ['invoice_date', 'creation_date', 'old_index', 'new_index','client_id']"
      ],
      "metadata": {
        "id": "nB7f-vNNXD00"
      },
      "execution_count": 39,
      "outputs": []
    },
    {
      "cell_type": "code",
      "source": [
        "train = train.drop(to_drop, axis=1)\n",
        "test = test.drop(to_drop, axis=1)"
      ],
      "metadata": {
        "id": "li4zU5EAXV2A"
      },
      "execution_count": 40,
      "outputs": []
    },
    {
      "cell_type": "markdown",
      "source": [
        "### encode the categorical data"
      ],
      "metadata": {
        "id": "sAlMYdRyYoiK"
      }
    },
    {
      "cell_type": "code",
      "source": [
        "lb = LabelEncoder()"
      ],
      "metadata": {
        "id": "RuXy-KwzY6rF"
      },
      "execution_count": 46,
      "outputs": []
    },
    {
      "cell_type": "code",
      "source": [
        "train.select_dtypes('O').columns"
      ],
      "metadata": {
        "colab": {
          "base_uri": "https://localhost:8080/"
        },
        "id": "RdN7JN8cYsf7",
        "outputId": "d3df59f2-b5e3-4470-d48a-47dddee1ab1f"
      },
      "execution_count": 47,
      "outputs": [
        {
          "output_type": "execute_result",
          "data": {
            "text/plain": [
              "Index(['counter_statue', 'counter_type'], dtype='object')"
            ]
          },
          "metadata": {},
          "execution_count": 47
        }
      ]
    },
    {
      "cell_type": "code",
      "source": [
        "train['counter_statue'] = train['counter_statue'].astype(str)\n",
        "test['counter_statue'] = test['counter_statue'].astype(str)"
      ],
      "metadata": {
        "id": "F6AAyf-UZQ8K"
      },
      "execution_count": 49,
      "outputs": []
    },
    {
      "cell_type": "code",
      "source": [
        "train['counter_statue'] = lb.fit_transform(train['counter_statue'])\n",
        "train['counter_type'] = lb.fit_transform(train['counter_type'])"
      ],
      "metadata": {
        "id": "MQVpVavkYsWo"
      },
      "execution_count": 50,
      "outputs": []
    },
    {
      "cell_type": "code",
      "source": [
        "test['counter_statue'] = lb.fit_transform(test['counter_statue'])\n",
        "test['counter_type'] = lb.fit_transform(test['counter_type'])"
      ],
      "metadata": {
        "id": "kniC61yiZLqV"
      },
      "execution_count": 51,
      "outputs": []
    },
    {
      "cell_type": "markdown",
      "source": [
        "### Machine learning"
      ],
      "metadata": {
        "id": "IcxsA5n_YE1E"
      }
    },
    {
      "cell_type": "code",
      "source": [
        "X = train.drop('target', axis=1)\n",
        "y = train['target']"
      ],
      "metadata": {
        "id": "BHVNlHJwXXAL"
      },
      "execution_count": 52,
      "outputs": []
    },
    {
      "cell_type": "code",
      "source": [
        "X_train, X_test, y_train, y_test = train_test_split(X, y, random_state=101,stratify=y)\n",
        "# shape of the data of train and validation set\n",
        "print('Shape of the X_train {}'.format(X_train.shape))\n",
        "print('Shape of the y_train {}'.format(y_train.shape))\n",
        "print('Shape of the X_test {}'.format(X_test.shape))\n",
        "print('Shape of the y_test {}'.format(y_test.shape))"
      ],
      "metadata": {
        "colab": {
          "base_uri": "https://localhost:8080/"
        },
        "id": "HKl61Xu4Xd3G",
        "outputId": "7e316727-5efb-4212-fe59-9c52a3e29e53"
      },
      "execution_count": 53,
      "outputs": [
        {
          "output_type": "stream",
          "name": "stdout",
          "text": [
            "Shape of the X_train (3357561, 21)\n",
            "Shape of the y_train (3357561,)\n",
            "Shape of the X_test (1119188, 21)\n",
            "Shape of the y_test (1119188,)\n"
          ]
        }
      ]
    },
    {
      "cell_type": "code",
      "source": [
        "    params = {}\n",
        "    params[\"objective\"] = \"binary\"\n",
        "    params['metric'] = 'auc'\n",
        "    params[\"max_depth\"] = -1\n",
        "    params[\"num_leaves\"] = 31"
      ],
      "metadata": {
        "id": "ek-PNP3XYgOZ"
      },
      "execution_count": 55,
      "outputs": []
    },
    {
      "cell_type": "code",
      "source": [
        "from lightgbm import LGBMClassifier # intializing the model\n",
        "model = LGBMClassifier(**params)"
      ],
      "metadata": {
        "id": "HGy7AuvlZovY"
      },
      "execution_count": 56,
      "outputs": []
    },
    {
      "cell_type": "code",
      "source": [
        "model.fit(X_train,y_train,eval_set=[(X_train,y_train),(X_test, y_test)], early_stopping_rounds=100)"
      ],
      "metadata": {
        "colab": {
          "base_uri": "https://localhost:8080/",
          "height": 1000
        },
        "id": "6hnD_4eAZwJT",
        "outputId": "f183ac54-8523-4b54-9d7b-451270c529ea"
      },
      "execution_count": 58,
      "outputs": [
        {
          "output_type": "stream",
          "name": "stderr",
          "text": [
            "/usr/local/lib/python3.10/dist-packages/lightgbm/sklearn.py:726: UserWarning: 'early_stopping_rounds' argument is deprecated and will be removed in a future release of LightGBM. Pass 'early_stopping()' callback via 'callbacks' argument instead.\n",
            "  _log_warning(\"'early_stopping_rounds' argument is deprecated and will be removed in a future release of LightGBM. \"\n"
          ]
        },
        {
          "output_type": "stream",
          "name": "stdout",
          "text": [
            "[1]\ttraining's auc: 0.656258\tvalid_1's auc: 0.655367\n",
            "[2]\ttraining's auc: 0.662415\tvalid_1's auc: 0.661275\n",
            "[3]\ttraining's auc: 0.6678\tvalid_1's auc: 0.666906\n",
            "[4]\ttraining's auc: 0.67055\tvalid_1's auc: 0.669738\n",
            "[5]\ttraining's auc: 0.672821\tvalid_1's auc: 0.671986\n",
            "[6]\ttraining's auc: 0.675153\tvalid_1's auc: 0.674224\n",
            "[7]\ttraining's auc: 0.67945\tvalid_1's auc: 0.678127\n",
            "[8]\ttraining's auc: 0.680831\tvalid_1's auc: 0.679522\n",
            "[9]\ttraining's auc: 0.681863\tvalid_1's auc: 0.680747\n",
            "[10]\ttraining's auc: 0.683314\tvalid_1's auc: 0.682155\n",
            "[11]\ttraining's auc: 0.684245\tvalid_1's auc: 0.683045\n",
            "[12]\ttraining's auc: 0.686192\tvalid_1's auc: 0.684869\n",
            "[13]\ttraining's auc: 0.687295\tvalid_1's auc: 0.685994\n",
            "[14]\ttraining's auc: 0.68823\tvalid_1's auc: 0.686831\n",
            "[15]\ttraining's auc: 0.6896\tvalid_1's auc: 0.688256\n",
            "[16]\ttraining's auc: 0.690583\tvalid_1's auc: 0.689112\n",
            "[17]\ttraining's auc: 0.691568\tvalid_1's auc: 0.690267\n",
            "[18]\ttraining's auc: 0.692932\tvalid_1's auc: 0.691634\n",
            "[19]\ttraining's auc: 0.694349\tvalid_1's auc: 0.692951\n",
            "[20]\ttraining's auc: 0.695135\tvalid_1's auc: 0.693815\n",
            "[21]\ttraining's auc: 0.69633\tvalid_1's auc: 0.694963\n",
            "[22]\ttraining's auc: 0.697621\tvalid_1's auc: 0.696242\n",
            "[23]\ttraining's auc: 0.698475\tvalid_1's auc: 0.697025\n",
            "[24]\ttraining's auc: 0.699265\tvalid_1's auc: 0.697877\n",
            "[25]\ttraining's auc: 0.700264\tvalid_1's auc: 0.698873\n",
            "[26]\ttraining's auc: 0.701064\tvalid_1's auc: 0.699646\n",
            "[27]\ttraining's auc: 0.701708\tvalid_1's auc: 0.700286\n",
            "[28]\ttraining's auc: 0.702574\tvalid_1's auc: 0.701224\n",
            "[29]\ttraining's auc: 0.703656\tvalid_1's auc: 0.702224\n",
            "[30]\ttraining's auc: 0.704323\tvalid_1's auc: 0.70287\n",
            "[31]\ttraining's auc: 0.704922\tvalid_1's auc: 0.703433\n",
            "[32]\ttraining's auc: 0.705556\tvalid_1's auc: 0.704071\n",
            "[33]\ttraining's auc: 0.706156\tvalid_1's auc: 0.704686\n",
            "[34]\ttraining's auc: 0.706821\tvalid_1's auc: 0.705326\n",
            "[35]\ttraining's auc: 0.707456\tvalid_1's auc: 0.706005\n",
            "[36]\ttraining's auc: 0.70789\tvalid_1's auc: 0.706415\n",
            "[37]\ttraining's auc: 0.708434\tvalid_1's auc: 0.706961\n",
            "[38]\ttraining's auc: 0.708891\tvalid_1's auc: 0.707368\n",
            "[39]\ttraining's auc: 0.709324\tvalid_1's auc: 0.707771\n",
            "[40]\ttraining's auc: 0.709952\tvalid_1's auc: 0.708385\n",
            "[41]\ttraining's auc: 0.710578\tvalid_1's auc: 0.708974\n",
            "[42]\ttraining's auc: 0.710919\tvalid_1's auc: 0.709291\n",
            "[43]\ttraining's auc: 0.711318\tvalid_1's auc: 0.709633\n",
            "[44]\ttraining's auc: 0.711962\tvalid_1's auc: 0.710264\n",
            "[45]\ttraining's auc: 0.712577\tvalid_1's auc: 0.710858\n",
            "[46]\ttraining's auc: 0.713241\tvalid_1's auc: 0.711509\n",
            "[47]\ttraining's auc: 0.713823\tvalid_1's auc: 0.712076\n",
            "[48]\ttraining's auc: 0.71428\tvalid_1's auc: 0.712516\n",
            "[49]\ttraining's auc: 0.714749\tvalid_1's auc: 0.713066\n",
            "[50]\ttraining's auc: 0.715124\tvalid_1's auc: 0.713454\n",
            "[51]\ttraining's auc: 0.715752\tvalid_1's auc: 0.71402\n",
            "[52]\ttraining's auc: 0.71616\tvalid_1's auc: 0.714421\n",
            "[53]\ttraining's auc: 0.716676\tvalid_1's auc: 0.714907\n",
            "[54]\ttraining's auc: 0.717101\tvalid_1's auc: 0.715336\n",
            "[55]\ttraining's auc: 0.717493\tvalid_1's auc: 0.715681\n",
            "[56]\ttraining's auc: 0.717918\tvalid_1's auc: 0.716026\n",
            "[57]\ttraining's auc: 0.718293\tvalid_1's auc: 0.716386\n",
            "[58]\ttraining's auc: 0.718616\tvalid_1's auc: 0.716721\n",
            "[59]\ttraining's auc: 0.719251\tvalid_1's auc: 0.717331\n",
            "[60]\ttraining's auc: 0.719739\tvalid_1's auc: 0.717788\n",
            "[61]\ttraining's auc: 0.720345\tvalid_1's auc: 0.718368\n",
            "[62]\ttraining's auc: 0.721071\tvalid_1's auc: 0.718972\n",
            "[63]\ttraining's auc: 0.721891\tvalid_1's auc: 0.719892\n",
            "[64]\ttraining's auc: 0.722459\tvalid_1's auc: 0.720413\n",
            "[65]\ttraining's auc: 0.722774\tvalid_1's auc: 0.720713\n",
            "[66]\ttraining's auc: 0.723347\tvalid_1's auc: 0.721233\n",
            "[67]\ttraining's auc: 0.723564\tvalid_1's auc: 0.721415\n",
            "[68]\ttraining's auc: 0.723772\tvalid_1's auc: 0.721605\n",
            "[69]\ttraining's auc: 0.724237\tvalid_1's auc: 0.72216\n",
            "[70]\ttraining's auc: 0.724531\tvalid_1's auc: 0.722452\n",
            "[71]\ttraining's auc: 0.724791\tvalid_1's auc: 0.722675\n",
            "[72]\ttraining's auc: 0.725523\tvalid_1's auc: 0.723321\n",
            "[73]\ttraining's auc: 0.725699\tvalid_1's auc: 0.723478\n",
            "[74]\ttraining's auc: 0.725939\tvalid_1's auc: 0.723698\n",
            "[75]\ttraining's auc: 0.726865\tvalid_1's auc: 0.724633\n",
            "[76]\ttraining's auc: 0.727051\tvalid_1's auc: 0.724829\n",
            "[77]\ttraining's auc: 0.727308\tvalid_1's auc: 0.725059\n",
            "[78]\ttraining's auc: 0.727583\tvalid_1's auc: 0.725359\n",
            "[79]\ttraining's auc: 0.727766\tvalid_1's auc: 0.725537\n",
            "[80]\ttraining's auc: 0.727978\tvalid_1's auc: 0.725718\n",
            "[81]\ttraining's auc: 0.728415\tvalid_1's auc: 0.726166\n",
            "[82]\ttraining's auc: 0.728907\tvalid_1's auc: 0.726567\n",
            "[83]\ttraining's auc: 0.729253\tvalid_1's auc: 0.726874\n",
            "[84]\ttraining's auc: 0.729587\tvalid_1's auc: 0.727264\n",
            "[85]\ttraining's auc: 0.72991\tvalid_1's auc: 0.727598\n",
            "[86]\ttraining's auc: 0.730133\tvalid_1's auc: 0.727813\n",
            "[87]\ttraining's auc: 0.73109\tvalid_1's auc: 0.728754\n",
            "[88]\ttraining's auc: 0.731661\tvalid_1's auc: 0.729306\n",
            "[89]\ttraining's auc: 0.731816\tvalid_1's auc: 0.729418\n",
            "[90]\ttraining's auc: 0.73203\tvalid_1's auc: 0.729655\n",
            "[91]\ttraining's auc: 0.732232\tvalid_1's auc: 0.729739\n",
            "[92]\ttraining's auc: 0.732597\tvalid_1's auc: 0.730153\n",
            "[93]\ttraining's auc: 0.732865\tvalid_1's auc: 0.730403\n",
            "[94]\ttraining's auc: 0.733036\tvalid_1's auc: 0.730584\n",
            "[95]\ttraining's auc: 0.733552\tvalid_1's auc: 0.73104\n",
            "[96]\ttraining's auc: 0.733758\tvalid_1's auc: 0.731245\n",
            "[97]\ttraining's auc: 0.733886\tvalid_1's auc: 0.731353\n",
            "[98]\ttraining's auc: 0.734172\tvalid_1's auc: 0.731599\n",
            "[99]\ttraining's auc: 0.734725\tvalid_1's auc: 0.732104\n",
            "[100]\ttraining's auc: 0.735394\tvalid_1's auc: 0.732675\n"
          ]
        },
        {
          "output_type": "execute_result",
          "data": {
            "text/plain": [
              "LGBMClassifier(metric='auc', objective='binary')"
            ],
            "text/html": [
              "<style>#sk-container-id-1 {color: black;background-color: white;}#sk-container-id-1 pre{padding: 0;}#sk-container-id-1 div.sk-toggleable {background-color: white;}#sk-container-id-1 label.sk-toggleable__label {cursor: pointer;display: block;width: 100%;margin-bottom: 0;padding: 0.3em;box-sizing: border-box;text-align: center;}#sk-container-id-1 label.sk-toggleable__label-arrow:before {content: \"▸\";float: left;margin-right: 0.25em;color: #696969;}#sk-container-id-1 label.sk-toggleable__label-arrow:hover:before {color: black;}#sk-container-id-1 div.sk-estimator:hover label.sk-toggleable__label-arrow:before {color: black;}#sk-container-id-1 div.sk-toggleable__content {max-height: 0;max-width: 0;overflow: hidden;text-align: left;background-color: #f0f8ff;}#sk-container-id-1 div.sk-toggleable__content pre {margin: 0.2em;color: black;border-radius: 0.25em;background-color: #f0f8ff;}#sk-container-id-1 input.sk-toggleable__control:checked~div.sk-toggleable__content {max-height: 200px;max-width: 100%;overflow: auto;}#sk-container-id-1 input.sk-toggleable__control:checked~label.sk-toggleable__label-arrow:before {content: \"▾\";}#sk-container-id-1 div.sk-estimator input.sk-toggleable__control:checked~label.sk-toggleable__label {background-color: #d4ebff;}#sk-container-id-1 div.sk-label input.sk-toggleable__control:checked~label.sk-toggleable__label {background-color: #d4ebff;}#sk-container-id-1 input.sk-hidden--visually {border: 0;clip: rect(1px 1px 1px 1px);clip: rect(1px, 1px, 1px, 1px);height: 1px;margin: -1px;overflow: hidden;padding: 0;position: absolute;width: 1px;}#sk-container-id-1 div.sk-estimator {font-family: monospace;background-color: #f0f8ff;border: 1px dotted black;border-radius: 0.25em;box-sizing: border-box;margin-bottom: 0.5em;}#sk-container-id-1 div.sk-estimator:hover {background-color: #d4ebff;}#sk-container-id-1 div.sk-parallel-item::after {content: \"\";width: 100%;border-bottom: 1px solid gray;flex-grow: 1;}#sk-container-id-1 div.sk-label:hover label.sk-toggleable__label {background-color: #d4ebff;}#sk-container-id-1 div.sk-serial::before {content: \"\";position: absolute;border-left: 1px solid gray;box-sizing: border-box;top: 0;bottom: 0;left: 50%;z-index: 0;}#sk-container-id-1 div.sk-serial {display: flex;flex-direction: column;align-items: center;background-color: white;padding-right: 0.2em;padding-left: 0.2em;position: relative;}#sk-container-id-1 div.sk-item {position: relative;z-index: 1;}#sk-container-id-1 div.sk-parallel {display: flex;align-items: stretch;justify-content: center;background-color: white;position: relative;}#sk-container-id-1 div.sk-item::before, #sk-container-id-1 div.sk-parallel-item::before {content: \"\";position: absolute;border-left: 1px solid gray;box-sizing: border-box;top: 0;bottom: 0;left: 50%;z-index: -1;}#sk-container-id-1 div.sk-parallel-item {display: flex;flex-direction: column;z-index: 1;position: relative;background-color: white;}#sk-container-id-1 div.sk-parallel-item:first-child::after {align-self: flex-end;width: 50%;}#sk-container-id-1 div.sk-parallel-item:last-child::after {align-self: flex-start;width: 50%;}#sk-container-id-1 div.sk-parallel-item:only-child::after {width: 0;}#sk-container-id-1 div.sk-dashed-wrapped {border: 1px dashed gray;margin: 0 0.4em 0.5em 0.4em;box-sizing: border-box;padding-bottom: 0.4em;background-color: white;}#sk-container-id-1 div.sk-label label {font-family: monospace;font-weight: bold;display: inline-block;line-height: 1.2em;}#sk-container-id-1 div.sk-label-container {text-align: center;}#sk-container-id-1 div.sk-container {/* jupyter's `normalize.less` sets `[hidden] { display: none; }` but bootstrap.min.css set `[hidden] { display: none !important; }` so we also need the `!important` here to be able to override the default hidden behavior on the sphinx rendered scikit-learn.org. See: https://github.com/scikit-learn/scikit-learn/issues/21755 */display: inline-block !important;position: relative;}#sk-container-id-1 div.sk-text-repr-fallback {display: none;}</style><div id=\"sk-container-id-1\" class=\"sk-top-container\"><div class=\"sk-text-repr-fallback\"><pre>LGBMClassifier(metric=&#x27;auc&#x27;, objective=&#x27;binary&#x27;)</pre><b>In a Jupyter environment, please rerun this cell to show the HTML representation or trust the notebook. <br />On GitHub, the HTML representation is unable to render, please try loading this page with nbviewer.org.</b></div><div class=\"sk-container\" hidden><div class=\"sk-item\"><div class=\"sk-estimator sk-toggleable\"><input class=\"sk-toggleable__control sk-hidden--visually\" id=\"sk-estimator-id-1\" type=\"checkbox\" checked><label for=\"sk-estimator-id-1\" class=\"sk-toggleable__label sk-toggleable__label-arrow\">LGBMClassifier</label><div class=\"sk-toggleable__content\"><pre>LGBMClassifier(metric=&#x27;auc&#x27;, objective=&#x27;binary&#x27;)</pre></div></div></div></div></div>"
            ]
          },
          "metadata": {},
          "execution_count": 58
        }
      ]
    },
    {
      "cell_type": "code",
      "source": [
        "y_pred = model.predict_proba(X_test)[:, 1]\n",
        "print('AUC score of the model is {}'.format(roc_auc_score(y_test, y_pred)))"
      ],
      "metadata": {
        "colab": {
          "base_uri": "https://localhost:8080/"
        },
        "id": "vBr5BY9QcdND",
        "outputId": "2d3a493a-6016-41a6-cb2d-d3fd8604ef64"
      },
      "execution_count": 60,
      "outputs": [
        {
          "output_type": "stream",
          "name": "stdout",
          "text": [
            "AUC score of the model is 0.7326748416806039\n"
          ]
        }
      ]
    },
    {
      "cell_type": "code",
      "source": [
        "prediction = model.predict_proba(test)[:, 1]"
      ],
      "metadata": {
        "id": "VktfW8mhZ0_q"
      },
      "execution_count": 59,
      "outputs": []
    },
    {
      "cell_type": "code",
      "source": [
        "fea_imp = pd.DataFrame({'imp':model.feature_importances_, 'col': X.columns})\n",
        "fea_imp = fea_imp.sort_values(['imp', 'col'], ascending=False).iloc[-30:]\n",
        "_ = fea_imp.plot(kind='barh', x='col', y='imp', figsize=(20, 10))   "
      ],
      "metadata": {
        "colab": {
          "base_uri": "https://localhost:8080/",
          "height": 488
        },
        "id": "sx30LsuwcZUR",
        "outputId": "cc257798-eff5-466b-9371-9added5aac7a"
      },
      "execution_count": 61,
      "outputs": [
        {
          "output_type": "display_data",
          "data": {
            "text/plain": [
              "<Figure size 2000x1000 with 1 Axes>"
            ],
            "image/png": "[encoded data removed]"
          },
          "metadata": {}
        }
      ]
    },
    {
      "cell_type": "markdown",
      "source": [
        "### Make prediction"
      ],
      "metadata": {
        "id": "2qp_wMGCdo-9"
      }
    },
    {
      "cell_type": "code",
      "source": [
        "sub = pd.DataFrame({'test_id':test_id, 'target':prediction})"
      ],
      "metadata": {
        "id": "8KX1JctEdYpY"
      },
      "execution_count": 69,
      "outputs": []
    },
    {
      "cell_type": "code",
      "source": [
        "sub.head()"
      ],
      "metadata": {
        "colab": {
          "base_uri": "https://localhost:8080/",
          "height": 206
        },
        "id": "2IiZ0ZaBdsCi",
        "outputId": "52233889-5476-46f5-e7e9-a36bc639a960"
      },
      "execution_count": 70,
      "outputs": [
        {
          "output_type": "execute_result",
          "data": {
            "text/plain": [
              "         test_id    target\n",
              "0  test_Client_0  0.039645\n",
              "1  test_Client_0  0.066968\n",
              "2  test_Client_0  0.113089\n",
              "3  test_Client_0  0.063270\n",
              "4  test_Client_0  0.063270"
            ],
            "text/html": [
              "\n",
              "  <div id=\"df-6069a5b4-9d2b-4c1a-bc10-979fb469ce1c\">\n",
              "    <div class=\"colab-df-container\">\n",
              "      <div>\n",
              "<style scoped>\n",
              "    .dataframe tbody tr th:only-of-type {\n",
              "        vertical-align: middle;\n",
              "    }\n",
              "\n",
              "    .dataframe tbody tr th {\n",
              "        vertical-align: top;\n",
              "    }\n",
              "\n",
              "    .dataframe thead th {\n",
              "        text-align: right;\n",
              "    }\n",
              "</style>\n",
              "<table border=\"1\" class=\"dataframe\">\n",
              "  <thead>\n",
              "    <tr style=\"text-align: right;\">\n",
              "      <th></th>\n",
              "      <th>test_id</th>\n",
              "      <th>target</th>\n",
              "    </tr>\n",
              "  </thead>\n",
              "  <tbody>\n",
              "    <tr>\n",
              "      <th>0</th>\n",
              "      <td>test_Client_0</td>\n",
              "      <td>0.039645</td>\n",
              "    </tr>\n",
              "    <tr>\n",
              "      <th>1</th>\n",
              "      <td>test_Client_0</td>\n",
              "      <td>0.066968</td>\n",
              "    </tr>\n",
              "    <tr>\n",
              "      <th>2</th>\n",
              "      <td>test_Client_0</td>\n",
              "      <td>0.113089</td>\n",
              "    </tr>\n",
              "    <tr>\n",
              "      <th>3</th>\n",
              "      <td>test_Client_0</td>\n",
              "      <td>0.063270</td>\n",
              "    </tr>\n",
              "    <tr>\n",
              "      <th>4</th>\n",
              "      <td>test_Client_0</td>\n",
              "      <td>0.063270</td>\n",
              "    </tr>\n",
              "  </tbody>\n",
              "</table>\n",
              "</div>\n",
              "      <button class=\"colab-df-convert\" onclick=\"convertToInteractive('df-6069a5b4-9d2b-4c1a-bc10-979fb469ce1c')\"\n",
              "              title=\"Convert this dataframe to an interactive table.\"\n",
              "              style=\"display:none;\">\n",
              "        \n",
              "  <svg xmlns=\"http://www.w3.org/2000/svg\" height=\"24px\"viewBox=\"0 0 24 24\"\n",
              "       width=\"24px\">\n",
              "    <path d=\"M0 0h24v24H0V0z\" fill=\"none\"/>\n",
              "    <path d=\"M18.56 5.44l.94 2.06.94-2.06 2.06-.94-2.06-.94-.94-2.06-.94 2.06-2.06.94zm-11 1L8.5 8.5l.94-2.06 2.06-.94-2.06-.94L8.5 2.5l-.94 2.06-2.06.94zm10 10l.94 2.06.94-2.06 2.06-.94-2.06-.94-.94-2.06-.94 2.06-2.06.94z\"/><path d=\"M17.41 7.96l-1.37-1.37c-.4-.4-.92-.59-1.43-.59-.52 0-1.04.2-1.43.59L10.3 9.45l-7.72 7.72c-.78.78-.78 2.05 0 2.83L4 21.41c.39.39.9.59 1.41.59.51 0 1.02-.2 1.41-.59l7.78-7.78 2.81-2.81c.8-.78.8-2.07 0-2.86zM5.41 20L4 18.59l7.72-7.72 1.47 1.35L5.41 20z\"/>\n",
              "  </svg>\n",
              "      </button>\n",
              "      \n",
              "  <style>\n",
              "    .colab-df-container {\n",
              "      display:flex;\n",
              "      flex-wrap:wrap;\n",
              "      gap: 12px;\n",
              "    }\n",
              "\n",
              "    .colab-df-convert {\n",
              "      background-color: #E8F0FE;\n",
              "      border: none;\n",
              "      border-radius: 50%;\n",
              "      cursor: pointer;\n",
              "      display: none;\n",
              "      fill: #1967D2;\n",
              "      height: 32px;\n",
              "      padding: 0 0 0 0;\n",
              "      width: 32px;\n",
              "    }\n",
              "\n",
              "    .colab-df-convert:hover {\n",
              "      background-color: #E2EBFA;\n",
              "      box-shadow: 0px 1px 2px rgba(60, 64, 67, 0.3), 0px 1px 3px 1px rgba(60, 64, 67, 0.15);\n",
              "      fill: #174EA6;\n",
              "    }\n",
              "\n",
              "    [theme=dark] .colab-df-convert {\n",
              "      background-color: #3B4455;\n",
              "      fill: #D2E3FC;\n",
              "    }\n",
              "\n",
              "    [theme=dark] .colab-df-convert:hover {\n",
              "      background-color: #434B5C;\n",
              "      box-shadow: 0px 1px 3px 1px rgba(0, 0, 0, 0.15);\n",
              "      filter: drop-shadow(0px 1px 2px rgba(0, 0, 0, 0.3));\n",
              "      fill: #FFFFFF;\n",
              "    }\n",
              "  </style>\n",
              "\n",
              "      <script>\n",
              "        const buttonEl =\n",
              "          document.querySelector('#df-6069a5b4-9d2b-4c1a-bc10-979fb469ce1c button.colab-df-convert');\n",
              "        buttonEl.style.display =\n",
              "          google.colab.kernel.accessAllowed ? 'block' : 'none';\n",
              "\n",
              "        async function convertToInteractive(key) {\n",
              "          const element = document.querySelector('#df-6069a5b4-9d2b-4c1a-bc10-979fb469ce1c');\n",
              "          const dataTable =\n",
              "            await google.colab.kernel.invokeFunction('convertToInteractive',\n",
              "                                                     [key], {});\n",
              "          if (!dataTable) return;\n",
              "\n",
              "          const docLinkHtml = 'Like what you see? Visit the ' +\n",
              "            '<a target=\"_blank\" href=https://colab.research.google.com/notebooks/data_table.ipynb>data table notebook</a>'\n",
              "            + ' to learn more about interactive tables.';\n",
              "          element.innerHTML = '';\n",
              "          dataTable['output_type'] = 'display_data';\n",
              "          await google.colab.output.renderOutput(dataTable, element);\n",
              "          const docLink = document.createElement('div');\n",
              "          docLink.innerHTML = docLinkHtml;\n",
              "          element.appendChild(docLink);\n",
              "        }\n",
              "      </script>\n",
              "    </div>\n",
              "  </div>\n",
              "  "
            ]
          },
          "metadata": {},
          "execution_count": 70
        }
      ]
    },
    {
      "cell_type": "code",
      "source": [
        "print(submission.shape)\n",
        "print(test_id.shape)\n",
        "print(sub.shape)"
      ],
      "metadata": {
        "colab": {
          "base_uri": "https://localhost:8080/"
        },
        "id": "8Ixl_r8Hc1M_",
        "outputId": "be0914da-8940-4eda-d3a9-b3cb12289494"
      },
      "execution_count": 72,
      "outputs": [
        {
          "output_type": "stream",
          "name": "stdout",
          "text": [
            "(58069, 2)\n",
            "(1939730,)\n",
            "(1939730, 2)\n"
          ]
        }
      ]
    },
    {
      "cell_type": "markdown",
      "source": [
        "**Post pre-process**\n",
        "\n",
        "* we observe we have more test id than id in the submission file."
      ],
      "metadata": {
        "id": "jp__3gFXd00y"
      }
    },
    {
      "cell_type": "code",
      "source": [
        "test_id.nunique()"
      ],
      "metadata": {
        "colab": {
          "base_uri": "https://localhost:8080/"
        },
        "id": "E_bPBNM-c_Fr",
        "outputId": "e704a2b0-c558-4cc9-c027-61197c422084"
      },
      "execution_count": 73,
      "outputs": [
        {
          "output_type": "execute_result",
          "data": {
            "text/plain": [
              "58069"
            ]
          },
          "metadata": {},
          "execution_count": 73
        }
      ]
    },
    {
      "cell_type": "code",
      "source": [
        "## Take maximum value of each id\n",
        "sub = sub.groupby('test_id')['target'].max().reset_index()"
      ],
      "metadata": {
        "id": "6CNTPasGdL9n"
      },
      "execution_count": 80,
      "outputs": []
    },
    {
      "cell_type": "code",
      "source": [
        "sub.head()"
      ],
      "metadata": {
        "colab": {
          "base_uri": "https://localhost:8080/",
          "height": 206
        },
        "id": "fcaj8mzCeDef",
        "outputId": "7bb161e7-6ddb-45f7-ef25-c505daf699c0"
      },
      "execution_count": 81,
      "outputs": [
        {
          "output_type": "execute_result",
          "data": {
            "text/plain": [
              "            test_id    target\n",
              "0     test_Client_0  0.113089\n",
              "1     test_Client_1  0.267191\n",
              "2    test_Client_10  0.078855\n",
              "3   test_Client_100  0.075822\n",
              "4  test_Client_1000  0.083844"
            ],
            "text/html": [
              "\n",
              "  <div id=\"df-90931992-5634-4378-93c6-a8af3e57f23b\">\n",
              "    <div class=\"colab-df-container\">\n",
              "      <div>\n",
              "<style scoped>\n",
              "    .dataframe tbody tr th:only-of-type {\n",
              "        vertical-align: middle;\n",
              "    }\n",
              "\n",
              "    .dataframe tbody tr th {\n",
              "        vertical-align: top;\n",
              "    }\n",
              "\n",
              "    .dataframe thead th {\n",
              "        text-align: right;\n",
              "    }\n",
              "</style>\n",
              "<table border=\"1\" class=\"dataframe\">\n",
              "  <thead>\n",
              "    <tr style=\"text-align: right;\">\n",
              "      <th></th>\n",
              "      <th>test_id</th>\n",
              "      <th>target</th>\n",
              "    </tr>\n",
              "  </thead>\n",
              "  <tbody>\n",
              "    <tr>\n",
              "      <th>0</th>\n",
              "      <td>test_Client_0</td>\n",
              "      <td>0.113089</td>\n",
              "    </tr>\n",
              "    <tr>\n",
              "      <th>1</th>\n",
              "      <td>test_Client_1</td>\n",
              "      <td>0.267191</td>\n",
              "    </tr>\n",
              "    <tr>\n",
              "      <th>2</th>\n",
              "      <td>test_Client_10</td>\n",
              "      <td>0.078855</td>\n",
              "    </tr>\n",
              "    <tr>\n",
              "      <th>3</th>\n",
              "      <td>test_Client_100</td>\n",
              "      <td>0.075822</td>\n",
              "    </tr>\n",
              "    <tr>\n",
              "      <th>4</th>\n",
              "      <td>test_Client_1000</td>\n",
              "      <td>0.083844</td>\n",
              "    </tr>\n",
              "  </tbody>\n",
              "</table>\n",
              "</div>\n",
              "      <button class=\"colab-df-convert\" onclick=\"convertToInteractive('df-90931992-5634-4378-93c6-a8af3e57f23b')\"\n",
              "              title=\"Convert this dataframe to an interactive table.\"\n",
              "              style=\"display:none;\">\n",
              "        \n",
              "  <svg xmlns=\"http://www.w3.org/2000/svg\" height=\"24px\"viewBox=\"0 0 24 24\"\n",
              "       width=\"24px\">\n",
              "    <path d=\"M0 0h24v24H0V0z\" fill=\"none\"/>\n",
              "    <path d=\"M18.56 5.44l.94 2.06.94-2.06 2.06-.94-2.06-.94-.94-2.06-.94 2.06-2.06.94zm-11 1L8.5 8.5l.94-2.06 2.06-.94-2.06-.94L8.5 2.5l-.94 2.06-2.06.94zm10 10l.94 2.06.94-2.06 2.06-.94-2.06-.94-.94-2.06-.94 2.06-2.06.94z\"/><path d=\"M17.41 7.96l-1.37-1.37c-.4-.4-.92-.59-1.43-.59-.52 0-1.04.2-1.43.59L10.3 9.45l-7.72 7.72c-.78.78-.78 2.05 0 2.83L4 21.41c.39.39.9.59 1.41.59.51 0 1.02-.2 1.41-.59l7.78-7.78 2.81-2.81c.8-.78.8-2.07 0-2.86zM5.41 20L4 18.59l7.72-7.72 1.47 1.35L5.41 20z\"/>\n",
              "  </svg>\n",
              "      </button>\n",
              "      \n",
              "  <style>\n",
              "    .colab-df-container {\n",
              "      display:flex;\n",
              "      flex-wrap:wrap;\n",
              "      gap: 12px;\n",
              "    }\n",
              "\n",
              "    .colab-df-convert {\n",
              "      background-color: #E8F0FE;\n",
              "      border: none;\n",
              "      border-radius: 50%;\n",
              "      cursor: pointer;\n",
              "      display: none;\n",
              "      fill: #1967D2;\n",
              "      height: 32px;\n",
              "      padding: 0 0 0 0;\n",
              "      width: 32px;\n",
              "    }\n",
              "\n",
              "    .colab-df-convert:hover {\n",
              "      background-color: #E2EBFA;\n",
              "      box-shadow: 0px 1px 2px rgba(60, 64, 67, 0.3), 0px 1px 3px 1px rgba(60, 64, 67, 0.15);\n",
              "      fill: #174EA6;\n",
              "    }\n",
              "\n",
              "    [theme=dark] .colab-df-convert {\n",
              "      background-color: #3B4455;\n",
              "      fill: #D2E3FC;\n",
              "    }\n",
              "\n",
              "    [theme=dark] .colab-df-convert:hover {\n",
              "      background-color: #434B5C;\n",
              "      box-shadow: 0px 1px 3px 1px rgba(0, 0, 0, 0.15);\n",
              "      filter: drop-shadow(0px 1px 2px rgba(0, 0, 0, 0.3));\n",
              "      fill: #FFFFFF;\n",
              "    }\n",
              "  </style>\n",
              "\n",
              "      <script>\n",
              "        const buttonEl =\n",
              "          document.querySelector('#df-90931992-5634-4378-93c6-a8af3e57f23b button.colab-df-convert');\n",
              "        buttonEl.style.display =\n",
              "          google.colab.kernel.accessAllowed ? 'block' : 'none';\n",
              "\n",
              "        async function convertToInteractive(key) {\n",
              "          const element = document.querySelector('#df-90931992-5634-4378-93c6-a8af3e57f23b');\n",
              "          const dataTable =\n",
              "            await google.colab.kernel.invokeFunction('convertToInteractive',\n",
              "                                                     [key], {});\n",
              "          if (!dataTable) return;\n",
              "\n",
              "          const docLinkHtml = 'Like what you see? Visit the ' +\n",
              "            '<a target=\"_blank\" href=https://colab.research.google.com/notebooks/data_table.ipynb>data table notebook</a>'\n",
              "            + ' to learn more about interactive tables.';\n",
              "          element.innerHTML = '';\n",
              "          dataTable['output_type'] = 'display_data';\n",
              "          await google.colab.output.renderOutput(dataTable, element);\n",
              "          const docLink = document.createElement('div');\n",
              "          docLink.innerHTML = docLinkHtml;\n",
              "          element.appendChild(docLink);\n",
              "        }\n",
              "      </script>\n",
              "    </div>\n",
              "  </div>\n",
              "  "
            ]
          },
          "metadata": {},
          "execution_count": 81
        }
      ]
    },
    {
      "cell_type": "code",
      "source": [
        "sub.to_csv('base_indabax.csv', index=False)"
      ],
      "metadata": {
        "id": "VPwnd3foeWeJ"
      },
      "execution_count": 83,
      "outputs": []
    },
    {
      "cell_type": "markdown",
      "source": [
        "### Tips to win\n",
        "\n",
        "* perform more EDA\n",
        "\n",
        "* Feature engineering\n",
        "\n",
        "* Different machine learning models\n",
        "\n",
        "* hyperparameters tunning\n",
        "\n",
        "* post process your prediction.\n",
        "\n",
        "* Ensemble method."
      ],
      "metadata": {
        "id": "cabiPgTVeaNK"
      }
    },
    {
      "cell_type": "code",
      "source": [],
      "metadata": {
        "id": "ADa1fzw6eZzM"
      },
      "execution_count": null,
      "outputs": []
    }
  ]
}